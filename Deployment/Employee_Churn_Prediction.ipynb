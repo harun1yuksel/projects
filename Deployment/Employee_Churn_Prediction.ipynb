{
  "cells": [
    {
      "cell_type": "markdown",
      "id": "e8b557f9",
      "metadata": {
        "id": "e8b557f9",
        "papermill": {
          "duration": 0.018725,
          "end_time": "2022-11-09T10:27:44.995269",
          "exception": false,
          "start_time": "2022-11-09T10:27:44.976544",
          "status": "completed"
        },
        "tags": []
      },
      "source": [
        "# WELCOME!"
      ]
    },
    {
      "cell_type": "markdown",
      "id": "1838491e",
      "metadata": {
        "id": "1838491e",
        "papermill": {
          "duration": 0.0144,
          "end_time": "2022-11-09T10:27:45.024587",
          "exception": false,
          "start_time": "2022-11-09T10:27:45.010187",
          "status": "completed"
        },
        "tags": []
      },
      "source": [
        "Welcome to \"***Employee Churn Analysis Project***\".  \n",
        "\n",
        "Also you will research what is Employee Churn?, How it is different from customer churn, Exploratory data analysis and visualization of employee churn dataset using ***matplotlib*** and ***seaborn***, model building and evaluation using python ***scikit-learn*** packages. \n",
        "\n",
        "You will be able to implement classification techniques in Python. Using Scikit-Learn allowing you to successfully make predictions.\n",
        "\n",
        "At the end of the project, you will have the opportunity to deploy your model using *Streamlit*.\n",
        "\n",
        "Before diving into the project, please take a look at the determines and project structure.\n",
        "\n",
        "- NOTE: This project assumes that you already know the basics of coding in Python and are familiar with model deployement as well as the theory behind Distance Based, Bagging, Boosting algorithms, and Confusion Matrices. You can try more models and methods beside these to improve your model metrics.\n",
        "\n"
      ]
    },
    {
      "cell_type": "markdown",
      "id": "e435130d",
      "metadata": {
        "id": "e435130d",
        "papermill": {
          "duration": 0.015125,
          "end_time": "2022-11-09T10:27:45.054478",
          "exception": false,
          "start_time": "2022-11-09T10:27:45.039353",
          "status": "completed"
        },
        "tags": []
      },
      "source": [
        "# #Determines\n",
        "In this project you have HR data of a company. A study is requested from you to predict which employee will churn by using this data.\n",
        "\n",
        "The HR dataset has 14,999 samples. In the given dataset, you have two types of employee one who stayed and another who left the company.\n",
        "\n",
        "You can describe 10 attributes in detail as:\n",
        "- ***satisfaction_level:*** It is employee satisfaction point, which ranges from 0-1.\n",
        "- ***last_evaluation:*** It is evaluated performance by the employer, which also ranges from 0-1.\n",
        "- ***number_projects:*** How many of projects assigned to an employee?\n",
        "- ***average_monthly_hours:*** How many hours in averega an employee worked in a month?\n",
        "- **time_spent_company:** time_spent_company means employee experience. The number of years spent by an employee in the company.\n",
        "- ***work_accident:*** Whether an employee has had a work accident or not.\n",
        "- ***promotion_last_5years:*** Whether an employee has had a promotion in the last 5 years or not.\n",
        "- ***Departments:*** Employee's working department/division.\n",
        "- ***Salary:*** Salary level of the employee such as low, medium and high.\n",
        "- ***left:*** Whether the employee has left the company or not.\n",
        "\n",
        "First of all, to observe the structure of the data, outliers, missing values and features that affect the target variable, you must use exploratory data analysis and data visualization techniques. \n",
        "\n",
        "Then, you must perform data pre-processing operations such as ***Scaling*** and ***Encoding*** to increase the accuracy score of Gradient Descent Based or Distance-Based algorithms. you are asked to perform ***Cluster Analysis*** based on the information you obtain during exploratory data analysis and data visualization processes. \n",
        "\n",
        "The purpose of clustering analysis is to cluster data with similar characteristics. You are asked to use the ***K-means*** algorithm to make cluster analysis. However, you must provide the K-means algorithm with information about the number of clusters it will make predictions. Also, the data you apply to the K-means algorithm must be scaled. In order to find the optimal number of clusters, you are asked to use the ***Elbow method***. Briefly, try to predict the set to which individuals are related by using K-means and evaluate the estimation results.\n",
        "\n",
        "Once the data is ready to be applied to the model, you must ***split the data into train and test***. Then build a model to predict whether employees will churn or not. Train your models with your train set, test the success of your model with your test set. \n",
        "\n",
        "Try to make your predictions by using the algorithms ***Logistic Regression***, ***Random Forest Classifier***, ***XGBoost Classifier***, ***ANN***. You can use the related modules of the ***scikit-learn*** and ***Tensorflow-Keras*** library. You can use scikit-learn ***Classification Metrics*** module for accuracy calculation. You can use the ***Yellowbrick*** module for model selection and visualization.\n",
        "\n",
        "In the final step, you will deploy your model using Streamlit tool.\n",
        "\n"
      ]
    },
    {
      "cell_type": "markdown",
      "id": "0105143c",
      "metadata": {
        "id": "0105143c",
        "papermill": {
          "duration": 0.014506,
          "end_time": "2022-11-09T10:27:45.083845",
          "exception": false,
          "start_time": "2022-11-09T10:27:45.069339",
          "status": "completed"
        },
        "tags": []
      },
      "source": [
        "# #Tasks\n",
        "\n",
        "#### 1. Exploratory Data Analysis\n",
        "- Importing Modules\n",
        "- Loading Dataset\n",
        "- Data Insigts\n",
        "\n",
        "#### 2. Data Visualization\n",
        "- Employees Left\n",
        "- Determine Number of Projects\n",
        "- Determine Time Spent in Company\n",
        "- Subplots of Features\n",
        "\n",
        "#### 3. Model Building\n",
        "- Split Data as Train and Test set\n",
        "- Built Random Forest Classifier and Evaluate Model Performance and Predict Test Data\n",
        "- Evaluate Model Performance and Predict Test Data"
      ]
    },
    {
      "cell_type": "markdown",
      "id": "bd5a5c26",
      "metadata": {
        "id": "bd5a5c26",
        "papermill": {
          "duration": 0.014636,
          "end_time": "2022-11-09T10:27:45.113654",
          "exception": false,
          "start_time": "2022-11-09T10:27:45.099018",
          "status": "completed"
        },
        "tags": []
      },
      "source": [
        "## 1. Exploratory Data Analysis\n",
        "\n",
        "Exploratory Data Analysis is an initial process of analysis, in which you can summarize characteristics of data such as pattern, trends, outliers, and hypothesis testing using descriptive statistics and visualization."
      ]
    },
    {
      "cell_type": "markdown",
      "id": "251dd8f7",
      "metadata": {
        "id": "251dd8f7",
        "papermill": {
          "duration": 0.014482,
          "end_time": "2022-11-09T10:27:45.142878",
          "exception": false,
          "start_time": "2022-11-09T10:27:45.128396",
          "status": "completed"
        },
        "tags": []
      },
      "source": [
        "### Importing Modules"
      ]
    },
    {
      "cell_type": "code",
      "source": [
        "!pip install colorama"
      ],
      "metadata": {
        "id": "kYA8bLHAlba_",
        "outputId": "2e7e1f93-7df1-4aff-9f59-3cd4b110a11e",
        "colab": {
          "base_uri": "https://localhost:8080/"
        }
      },
      "id": "kYA8bLHAlba_",
      "execution_count": null,
      "outputs": [
        {
          "output_type": "stream",
          "name": "stdout",
          "text": [
            "Looking in indexes: https://pypi.org/simple, https://us-python.pkg.dev/colab-wheels/public/simple/\n",
            "Requirement already satisfied: colorama in /usr/local/lib/python3.7/dist-packages (0.4.6)\n"
          ]
        }
      ]
    },
    {
      "cell_type": "code",
      "source": [
        "!pip install termcolor"
      ],
      "metadata": {
        "id": "M5NUkF3xlz-5",
        "outputId": "04e2e801-1232-497d-da12-0f943f06d52b",
        "colab": {
          "base_uri": "https://localhost:8080/"
        }
      },
      "id": "M5NUkF3xlz-5",
      "execution_count": null,
      "outputs": [
        {
          "output_type": "stream",
          "name": "stdout",
          "text": [
            "Looking in indexes: https://pypi.org/simple, https://us-python.pkg.dev/colab-wheels/public/simple/\n",
            "Requirement already satisfied: termcolor in /usr/local/lib/python3.7/dist-packages (2.1.0)\n"
          ]
        }
      ]
    },
    {
      "cell_type": "code",
      "execution_count": null,
      "id": "ddb0652a",
      "metadata": {
        "execution": {
          "iopub.execute_input": "2022-11-09T10:27:45.174763Z",
          "iopub.status.busy": "2022-11-09T10:27:45.173886Z",
          "iopub.status.idle": "2022-11-09T10:27:49.768973Z",
          "shell.execute_reply": "2022-11-09T10:27:49.767779Z"
        },
        "id": "ddb0652a",
        "outputId": "d606794b-6a36-4882-e2ff-87789383c43e",
        "papermill": {
          "duration": 4.614254,
          "end_time": "2022-11-09T10:27:49.771926",
          "exception": false,
          "start_time": "2022-11-09T10:27:45.157672",
          "status": "completed"
        },
        "tags": [],
        "colab": {
          "base_uri": "https://localhost:8080/",
          "height": 17
        }
      },
      "outputs": [
        {
          "output_type": "display_data",
          "data": {
            "text/html": [
              "        <script type=\"text/javascript\">\n",
              "        window.PlotlyConfig = {MathJaxConfig: 'local'};\n",
              "        if (window.MathJax) {MathJax.Hub.Config({SVG: {font: \"STIX-Web\"}});}\n",
              "        if (typeof require !== 'undefined') {\n",
              "        require.undef(\"plotly\");\n",
              "        requirejs.config({\n",
              "            paths: {\n",
              "                'plotly': ['https://cdn.plot.ly/plotly-2.8.3.min']\n",
              "            }\n",
              "        });\n",
              "        require(['plotly'], function(Plotly) {\n",
              "            window._Plotly = Plotly;\n",
              "        });\n",
              "        }\n",
              "        </script>\n",
              "        "
            ]
          },
          "metadata": {}
        }
      ],
      "source": [
        "# Import Libraries\n",
        "import numpy as np\n",
        "import pandas as pd \n",
        "import seaborn as sns\n",
        "import matplotlib.pyplot as plt\n",
        "import scipy.stats as stats\n",
        "%matplotlib inline\n",
        "import statsmodels.api as sm\n",
        "import statsmodels.formula.api as smf\n",
        "import missingno as msno \n",
        "\n",
        "from sklearn.compose import make_column_transformer\n",
        "\n",
        "# Scaling\n",
        "from sklearn.preprocessing import scale \n",
        "from sklearn.preprocessing import StandardScaler\n",
        "from sklearn.preprocessing import PolynomialFeatures \n",
        "from sklearn.preprocessing import OneHotEncoder\n",
        "from sklearn.preprocessing import PowerTransformer \n",
        "from sklearn.preprocessing import MinMaxScaler\n",
        "from sklearn.preprocessing import RobustScaler\n",
        "\n",
        "\n",
        "# Importing plotly and cufflinks in offline mode\n",
        "import plotly.express as px\n",
        "import cufflinks as cf\n",
        "import plotly.offline\n",
        "cf.go_offline()\n",
        "cf.set_config_file(offline=False, world_readable=True)\n",
        "\n",
        "# Ignore Warnings\n",
        "import warnings\n",
        "warnings.filterwarnings(\"ignore\")\n",
        "warnings.warn(\"this will not show\")\n",
        "\n",
        "# Figure & Display options\n",
        "plt.rcParams[\"figure.figsize\"] = (10,6)\n",
        "pd.set_option('max_colwidth',200)\n",
        "pd.set_option('display.max_rows', 1000)\n",
        "pd.set_option('display.max_columns', 200)\n",
        "pd.set_option('display.float_format', lambda x: '%.3f' % x)\n",
        "\n",
        "sns.set_style(\"whitegrid\")\n",
        "\n",
        "# !pip install termcolor\n",
        "import colorama\n",
        "from colorama import Fore, Style  # makes strings colored\n",
        "from termcolor import colored\n",
        "\n",
        "import ipywidgets\n",
        "from ipywidgets import interact"
      ]
    },
    {
      "cell_type": "code",
      "source": [
        "from google.colab import drive\n",
        "drive.mount('/content/drive')"
      ],
      "metadata": {
        "id": "AECUZ3AQk4Y4",
        "outputId": "63b1de8a-fb7c-4101-874c-337b2e1dcecc",
        "colab": {
          "base_uri": "https://localhost:8080/"
        }
      },
      "id": "AECUZ3AQk4Y4",
      "execution_count": null,
      "outputs": [
        {
          "output_type": "stream",
          "name": "stdout",
          "text": [
            "Drive already mounted at /content/drive; to attempt to forcibly remount, call drive.mount(\"/content/drive\", force_remount=True).\n"
          ]
        }
      ]
    },
    {
      "cell_type": "code",
      "execution_count": null,
      "id": "9bd87b43",
      "metadata": {
        "execution": {
          "iopub.execute_input": "2022-11-09T10:27:49.805127Z",
          "iopub.status.busy": "2022-11-09T10:27:49.804704Z",
          "iopub.status.idle": "2022-11-09T10:27:56.426565Z",
          "shell.execute_reply": "2022-11-09T10:27:56.425234Z"
        },
        "id": "9bd87b43",
        "papermill": {
          "duration": 6.642099,
          "end_time": "2022-11-09T10:27:56.429509",
          "exception": false,
          "start_time": "2022-11-09T10:27:49.787410",
          "status": "completed"
        },
        "tags": []
      },
      "outputs": [],
      "source": [
        "import tensorflow as tf\n",
        "from tensorflow.keras.models import Sequential\n",
        "from tensorflow.keras.layers import Dense, Activation, Dropout\n",
        "from tensorflow.keras.callbacks import EarlyStopping\n",
        "from tensorflow.keras.optimizers import Adam\n",
        "from sklearn.metrics import classification_report, confusion_matrix\n",
        "from sklearn.metrics import roc_auc_score, roc_curve, precision_recall_curve, average_precision_score\n",
        "from sklearn.model_selection import cross_val_score, cross_validate\n",
        "from sklearn.model_selection import GridSearchCV"
      ]
    },
    {
      "cell_type": "code",
      "source": [
        "pip install matplotlib --upgrade"
      ],
      "metadata": {
        "id": "L9zshRT8njOi",
        "outputId": "d163277f-3807-40d6-bf7f-140f68aa26b9",
        "colab": {
          "base_uri": "https://localhost:8080/"
        }
      },
      "id": "L9zshRT8njOi",
      "execution_count": null,
      "outputs": [
        {
          "output_type": "stream",
          "name": "stdout",
          "text": [
            "Looking in indexes: https://pypi.org/simple, https://us-python.pkg.dev/colab-wheels/public/simple/\n",
            "Requirement already satisfied: matplotlib in /usr/local/lib/python3.7/dist-packages (3.5.3)\n",
            "Requirement already satisfied: pyparsing>=2.2.1 in /usr/local/lib/python3.7/dist-packages (from matplotlib) (3.0.9)\n",
            "Requirement already satisfied: pillow>=6.2.0 in /usr/local/lib/python3.7/dist-packages (from matplotlib) (7.1.2)\n",
            "Requirement already satisfied: fonttools>=4.22.0 in /usr/local/lib/python3.7/dist-packages (from matplotlib) (4.38.0)\n",
            "Requirement already satisfied: numpy>=1.17 in /usr/local/lib/python3.7/dist-packages (from matplotlib) (1.21.6)\n",
            "Requirement already satisfied: packaging>=20.0 in /usr/local/lib/python3.7/dist-packages (from matplotlib) (21.3)\n",
            "Requirement already satisfied: kiwisolver>=1.0.1 in /usr/local/lib/python3.7/dist-packages (from matplotlib) (1.4.4)\n",
            "Requirement already satisfied: cycler>=0.10 in /usr/local/lib/python3.7/dist-packages (from matplotlib) (0.11.0)\n",
            "Requirement already satisfied: python-dateutil>=2.7 in /usr/local/lib/python3.7/dist-packages (from matplotlib) (2.8.2)\n",
            "Requirement already satisfied: typing-extensions in /usr/local/lib/python3.7/dist-packages (from kiwisolver>=1.0.1->matplotlib) (4.1.1)\n",
            "Requirement already satisfied: six>=1.5 in /usr/local/lib/python3.7/dist-packages (from python-dateutil>=2.7->matplotlib) (1.15.0)\n"
          ]
        }
      ]
    },
    {
      "cell_type": "markdown",
      "id": "646badab",
      "metadata": {
        "id": "646badab",
        "papermill": {
          "duration": 0.014766,
          "end_time": "2022-11-09T10:27:56.459896",
          "exception": false,
          "start_time": "2022-11-09T10:27:56.445130",
          "status": "completed"
        },
        "tags": []
      },
      "source": [
        "### Loading Dataset\n",
        "\n",
        "Let's first load the required HR dataset using pandas's \"read_csv\" function."
      ]
    },
    {
      "cell_type": "code",
      "execution_count": null,
      "id": "f4c647e2",
      "metadata": {
        "execution": {
          "iopub.execute_input": "2022-11-09T10:27:56.492654Z",
          "iopub.status.busy": "2022-11-09T10:27:56.491779Z",
          "iopub.status.idle": "2022-11-09T10:27:56.532770Z",
          "shell.execute_reply": "2022-11-09T10:27:56.531577Z"
        },
        "id": "f4c647e2",
        "papermill": {
          "duration": 0.06064,
          "end_time": "2022-11-09T10:27:56.535788",
          "exception": false,
          "start_time": "2022-11-09T10:27:56.475148",
          "status": "completed"
        },
        "tags": []
      },
      "outputs": [],
      "source": [
        "df = pd.read_csv(\"https://raw.githubusercontent.com/harun1yuksel/Employee_Churn_Prediction/master/HR_Dataset.csv\")"
      ]
    },
    {
      "cell_type": "markdown",
      "id": "57d566b5",
      "metadata": {
        "id": "57d566b5",
        "papermill": {
          "duration": 0.014749,
          "end_time": "2022-11-09T10:27:56.565682",
          "exception": false,
          "start_time": "2022-11-09T10:27:56.550933",
          "status": "completed"
        },
        "tags": []
      },
      "source": [
        "### Data Insights\n",
        "\n",
        "In the given dataset, you have two types of employee one who stayed and another who left the company. So, you can divide data into two groups and compare their characteristics. Moreover, you can find the average of both the groups using groupby() and mean() function."
      ]
    },
    {
      "cell_type": "code",
      "execution_count": null,
      "id": "cc854522",
      "metadata": {
        "execution": {
          "iopub.execute_input": "2022-11-09T10:27:56.597743Z",
          "iopub.status.busy": "2022-11-09T10:27:56.597343Z",
          "iopub.status.idle": "2022-11-09T10:27:56.628181Z",
          "shell.execute_reply": "2022-11-09T10:27:56.626423Z"
        },
        "id": "cc854522",
        "outputId": "aa1a2d43-2b5a-42c9-97f9-2b6303de75ee",
        "papermill": {
          "duration": 0.050093,
          "end_time": "2022-11-09T10:27:56.630848",
          "exception": false,
          "start_time": "2022-11-09T10:27:56.580755",
          "status": "completed"
        },
        "tags": [],
        "colab": {
          "base_uri": "https://localhost:8080/"
        }
      },
      "outputs": [
        {
          "output_type": "stream",
          "name": "stdout",
          "text": [
            "<class 'pandas.core.frame.DataFrame'>\n",
            "RangeIndex: 14999 entries, 0 to 14998\n",
            "Data columns (total 10 columns):\n",
            " #   Column                 Non-Null Count  Dtype  \n",
            "---  ------                 --------------  -----  \n",
            " 0   satisfaction_level     14999 non-null  float64\n",
            " 1   last_evaluation        14999 non-null  float64\n",
            " 2   number_project         14999 non-null  int64  \n",
            " 3   average_montly_hours   14999 non-null  int64  \n",
            " 4   time_spend_company     14999 non-null  int64  \n",
            " 5   Work_accident          14999 non-null  int64  \n",
            " 6   left                   14999 non-null  int64  \n",
            " 7   promotion_last_5years  14999 non-null  int64  \n",
            " 8   Departments            14999 non-null  object \n",
            " 9   salary                 14999 non-null  object \n",
            "dtypes: float64(2), int64(6), object(2)\n",
            "memory usage: 1.1+ MB\n"
          ]
        }
      ],
      "source": [
        "df.info()"
      ]
    },
    {
      "cell_type": "code",
      "execution_count": null,
      "id": "746ac239",
      "metadata": {
        "execution": {
          "iopub.execute_input": "2022-11-09T10:27:56.663456Z",
          "iopub.status.busy": "2022-11-09T10:27:56.662521Z",
          "iopub.status.idle": "2022-11-09T10:27:56.672465Z",
          "shell.execute_reply": "2022-11-09T10:27:56.671181Z"
        },
        "id": "746ac239",
        "outputId": "744a7907-85c4-468c-8433-6bc49d2e00bc",
        "papermill": {
          "duration": 0.028861,
          "end_time": "2022-11-09T10:27:56.674967",
          "exception": false,
          "start_time": "2022-11-09T10:27:56.646106",
          "status": "completed"
        },
        "tags": [],
        "colab": {
          "base_uri": "https://localhost:8080/"
        }
      },
      "outputs": [
        {
          "output_type": "execute_result",
          "data": {
            "text/plain": [
              "Index(['satisfaction_level', 'last_evaluation', 'number_project',\n",
              "       'average_montly_hours', 'time_spend_company', 'Work_accident', 'left',\n",
              "       'promotion_last_5years', 'Departments ', 'salary'],\n",
              "      dtype='object')"
            ]
          },
          "metadata": {},
          "execution_count": 32
        }
      ],
      "source": [
        "df.columns"
      ]
    },
    {
      "cell_type": "code",
      "execution_count": null,
      "id": "bc29178a",
      "metadata": {
        "execution": {
          "iopub.execute_input": "2022-11-09T10:27:56.707375Z",
          "iopub.status.busy": "2022-11-09T10:27:56.706657Z",
          "iopub.status.idle": "2022-11-09T10:27:56.712518Z",
          "shell.execute_reply": "2022-11-09T10:27:56.711641Z"
        },
        "id": "bc29178a",
        "papermill": {
          "duration": 0.024871,
          "end_time": "2022-11-09T10:27:56.714913",
          "exception": false,
          "start_time": "2022-11-09T10:27:56.690042",
          "status": "completed"
        },
        "tags": []
      },
      "outputs": [],
      "source": [
        "df.rename(columns={'Departments ': \"departments\" }, inplace=True)\n"
      ]
    },
    {
      "cell_type": "code",
      "execution_count": null,
      "id": "4bfa1984",
      "metadata": {
        "execution": {
          "iopub.execute_input": "2022-11-09T10:27:56.747900Z",
          "iopub.status.busy": "2022-11-09T10:27:56.747180Z",
          "iopub.status.idle": "2022-11-09T10:27:56.764981Z",
          "shell.execute_reply": "2022-11-09T10:27:56.763678Z"
        },
        "id": "4bfa1984",
        "outputId": "3c951ea3-659b-49db-a401-3de0835cb24b",
        "papermill": {
          "duration": 0.037236,
          "end_time": "2022-11-09T10:27:56.767729",
          "exception": false,
          "start_time": "2022-11-09T10:27:56.730493",
          "status": "completed"
        },
        "tags": [],
        "colab": {
          "base_uri": "https://localhost:8080/",
          "height": 206
        }
      },
      "outputs": [
        {
          "output_type": "execute_result",
          "data": {
            "text/plain": [
              "   satisfaction_level  last_evaluation  number_project  average_montly_hours  \\\n",
              "0               0.380            0.530               2                   157   \n",
              "1               0.800            0.860               5                   262   \n",
              "2               0.110            0.880               7                   272   \n",
              "3               0.720            0.870               5                   223   \n",
              "4               0.370            0.520               2                   159   \n",
              "\n",
              "   time_spend_company  Work_accident  left  promotion_last_5years departments  \\\n",
              "0                   3              0     1                      0       sales   \n",
              "1                   6              0     1                      0       sales   \n",
              "2                   4              0     1                      0       sales   \n",
              "3                   5              0     1                      0       sales   \n",
              "4                   3              0     1                      0       sales   \n",
              "\n",
              "   salary  \n",
              "0     low  \n",
              "1  medium  \n",
              "2  medium  \n",
              "3     low  \n",
              "4     low  "
            ],
            "text/html": [
              "\n",
              "  <div id=\"df-13375a67-d942-4420-8484-28549d34a44d\">\n",
              "    <div class=\"colab-df-container\">\n",
              "      <div>\n",
              "<style scoped>\n",
              "    .dataframe tbody tr th:only-of-type {\n",
              "        vertical-align: middle;\n",
              "    }\n",
              "\n",
              "    .dataframe tbody tr th {\n",
              "        vertical-align: top;\n",
              "    }\n",
              "\n",
              "    .dataframe thead th {\n",
              "        text-align: right;\n",
              "    }\n",
              "</style>\n",
              "<table border=\"1\" class=\"dataframe\">\n",
              "  <thead>\n",
              "    <tr style=\"text-align: right;\">\n",
              "      <th></th>\n",
              "      <th>satisfaction_level</th>\n",
              "      <th>last_evaluation</th>\n",
              "      <th>number_project</th>\n",
              "      <th>average_montly_hours</th>\n",
              "      <th>time_spend_company</th>\n",
              "      <th>Work_accident</th>\n",
              "      <th>left</th>\n",
              "      <th>promotion_last_5years</th>\n",
              "      <th>departments</th>\n",
              "      <th>salary</th>\n",
              "    </tr>\n",
              "  </thead>\n",
              "  <tbody>\n",
              "    <tr>\n",
              "      <th>0</th>\n",
              "      <td>0.380</td>\n",
              "      <td>0.530</td>\n",
              "      <td>2</td>\n",
              "      <td>157</td>\n",
              "      <td>3</td>\n",
              "      <td>0</td>\n",
              "      <td>1</td>\n",
              "      <td>0</td>\n",
              "      <td>sales</td>\n",
              "      <td>low</td>\n",
              "    </tr>\n",
              "    <tr>\n",
              "      <th>1</th>\n",
              "      <td>0.800</td>\n",
              "      <td>0.860</td>\n",
              "      <td>5</td>\n",
              "      <td>262</td>\n",
              "      <td>6</td>\n",
              "      <td>0</td>\n",
              "      <td>1</td>\n",
              "      <td>0</td>\n",
              "      <td>sales</td>\n",
              "      <td>medium</td>\n",
              "    </tr>\n",
              "    <tr>\n",
              "      <th>2</th>\n",
              "      <td>0.110</td>\n",
              "      <td>0.880</td>\n",
              "      <td>7</td>\n",
              "      <td>272</td>\n",
              "      <td>4</td>\n",
              "      <td>0</td>\n",
              "      <td>1</td>\n",
              "      <td>0</td>\n",
              "      <td>sales</td>\n",
              "      <td>medium</td>\n",
              "    </tr>\n",
              "    <tr>\n",
              "      <th>3</th>\n",
              "      <td>0.720</td>\n",
              "      <td>0.870</td>\n",
              "      <td>5</td>\n",
              "      <td>223</td>\n",
              "      <td>5</td>\n",
              "      <td>0</td>\n",
              "      <td>1</td>\n",
              "      <td>0</td>\n",
              "      <td>sales</td>\n",
              "      <td>low</td>\n",
              "    </tr>\n",
              "    <tr>\n",
              "      <th>4</th>\n",
              "      <td>0.370</td>\n",
              "      <td>0.520</td>\n",
              "      <td>2</td>\n",
              "      <td>159</td>\n",
              "      <td>3</td>\n",
              "      <td>0</td>\n",
              "      <td>1</td>\n",
              "      <td>0</td>\n",
              "      <td>sales</td>\n",
              "      <td>low</td>\n",
              "    </tr>\n",
              "  </tbody>\n",
              "</table>\n",
              "</div>\n",
              "      <button class=\"colab-df-convert\" onclick=\"convertToInteractive('df-13375a67-d942-4420-8484-28549d34a44d')\"\n",
              "              title=\"Convert this dataframe to an interactive table.\"\n",
              "              style=\"display:none;\">\n",
              "        \n",
              "  <svg xmlns=\"http://www.w3.org/2000/svg\" height=\"24px\"viewBox=\"0 0 24 24\"\n",
              "       width=\"24px\">\n",
              "    <path d=\"M0 0h24v24H0V0z\" fill=\"none\"/>\n",
              "    <path d=\"M18.56 5.44l.94 2.06.94-2.06 2.06-.94-2.06-.94-.94-2.06-.94 2.06-2.06.94zm-11 1L8.5 8.5l.94-2.06 2.06-.94-2.06-.94L8.5 2.5l-.94 2.06-2.06.94zm10 10l.94 2.06.94-2.06 2.06-.94-2.06-.94-.94-2.06-.94 2.06-2.06.94z\"/><path d=\"M17.41 7.96l-1.37-1.37c-.4-.4-.92-.59-1.43-.59-.52 0-1.04.2-1.43.59L10.3 9.45l-7.72 7.72c-.78.78-.78 2.05 0 2.83L4 21.41c.39.39.9.59 1.41.59.51 0 1.02-.2 1.41-.59l7.78-7.78 2.81-2.81c.8-.78.8-2.07 0-2.86zM5.41 20L4 18.59l7.72-7.72 1.47 1.35L5.41 20z\"/>\n",
              "  </svg>\n",
              "      </button>\n",
              "      \n",
              "  <style>\n",
              "    .colab-df-container {\n",
              "      display:flex;\n",
              "      flex-wrap:wrap;\n",
              "      gap: 12px;\n",
              "    }\n",
              "\n",
              "    .colab-df-convert {\n",
              "      background-color: #E8F0FE;\n",
              "      border: none;\n",
              "      border-radius: 50%;\n",
              "      cursor: pointer;\n",
              "      display: none;\n",
              "      fill: #1967D2;\n",
              "      height: 32px;\n",
              "      padding: 0 0 0 0;\n",
              "      width: 32px;\n",
              "    }\n",
              "\n",
              "    .colab-df-convert:hover {\n",
              "      background-color: #E2EBFA;\n",
              "      box-shadow: 0px 1px 2px rgba(60, 64, 67, 0.3), 0px 1px 3px 1px rgba(60, 64, 67, 0.15);\n",
              "      fill: #174EA6;\n",
              "    }\n",
              "\n",
              "    [theme=dark] .colab-df-convert {\n",
              "      background-color: #3B4455;\n",
              "      fill: #D2E3FC;\n",
              "    }\n",
              "\n",
              "    [theme=dark] .colab-df-convert:hover {\n",
              "      background-color: #434B5C;\n",
              "      box-shadow: 0px 1px 3px 1px rgba(0, 0, 0, 0.15);\n",
              "      filter: drop-shadow(0px 1px 2px rgba(0, 0, 0, 0.3));\n",
              "      fill: #FFFFFF;\n",
              "    }\n",
              "  </style>\n",
              "\n",
              "      <script>\n",
              "        const buttonEl =\n",
              "          document.querySelector('#df-13375a67-d942-4420-8484-28549d34a44d button.colab-df-convert');\n",
              "        buttonEl.style.display =\n",
              "          google.colab.kernel.accessAllowed ? 'block' : 'none';\n",
              "\n",
              "        async function convertToInteractive(key) {\n",
              "          const element = document.querySelector('#df-13375a67-d942-4420-8484-28549d34a44d');\n",
              "          const dataTable =\n",
              "            await google.colab.kernel.invokeFunction('convertToInteractive',\n",
              "                                                     [key], {});\n",
              "          if (!dataTable) return;\n",
              "\n",
              "          const docLinkHtml = 'Like what you see? Visit the ' +\n",
              "            '<a target=\"_blank\" href=https://colab.research.google.com/notebooks/data_table.ipynb>data table notebook</a>'\n",
              "            + ' to learn more about interactive tables.';\n",
              "          element.innerHTML = '';\n",
              "          dataTable['output_type'] = 'display_data';\n",
              "          await google.colab.output.renderOutput(dataTable, element);\n",
              "          const docLink = document.createElement('div');\n",
              "          docLink.innerHTML = docLinkHtml;\n",
              "          element.appendChild(docLink);\n",
              "        }\n",
              "      </script>\n",
              "    </div>\n",
              "  </div>\n",
              "  "
            ]
          },
          "metadata": {},
          "execution_count": 34
        }
      ],
      "source": [
        "df.head()"
      ]
    },
    {
      "cell_type": "code",
      "execution_count": null,
      "id": "335cec91",
      "metadata": {
        "execution": {
          "iopub.execute_input": "2022-11-09T10:27:56.800845Z",
          "iopub.status.busy": "2022-11-09T10:27:56.800466Z",
          "iopub.status.idle": "2022-11-09T10:27:56.809472Z",
          "shell.execute_reply": "2022-11-09T10:27:56.808112Z"
        },
        "id": "335cec91",
        "papermill": {
          "duration": 0.028621,
          "end_time": "2022-11-09T10:27:56.811993",
          "exception": false,
          "start_time": "2022-11-09T10:27:56.783372",
          "status": "completed"
        },
        "tags": []
      },
      "outputs": [],
      "source": [
        "from colorama import Fore, Back, Style\n",
        "\n",
        "def first_looking(col):\n",
        "    \"\"\"give only column name as \"col_name\" not as df[\"col_name\"]\"\"\"\n",
        "    print(Back.BLACK + Fore.YELLOW, \"Column name    : \", col, Style.RESET_ALL)\n",
        "    print(Fore.RED + \"--------------------------------\", Style.RESET_ALL)\n",
        "    print(\"per_of_nulls   : \", \"%\", round(df[col].isnull().sum()*100 / df.shape[0], 2))\n",
        "    print(\"num_of_nulls   : \", df[col].isnull().sum())\n",
        "    print(\"num_of_uniques : \", df[col].nunique())\n",
        "    print(Fore.RED + \"--------------------------------\", Style.RESET_ALL)\n",
        "    print(\"Value counts\")\n",
        "    print(df[col].value_counts(dropna = False))\n",
        "    print(Fore.RED + \"--------------------------------\", Style.RESET_ALL)\n",
        "    print(\"Descriptive statistics\")\n",
        "    print(df[col].describe())\n",
        "    print()\n",
        "    print()"
      ]
    },
    {
      "cell_type": "code",
      "execution_count": null,
      "id": "699d48d9",
      "metadata": {
        "execution": {
          "iopub.execute_input": "2022-11-09T10:27:56.844844Z",
          "iopub.status.busy": "2022-11-09T10:27:56.844461Z",
          "iopub.status.idle": "2022-11-09T10:27:56.851447Z",
          "shell.execute_reply": "2022-11-09T10:27:56.850316Z"
        },
        "id": "699d48d9",
        "outputId": "73ae25cf-98dd-4748-8c0e-bdf78c21680c",
        "papermill": {
          "duration": 0.026347,
          "end_time": "2022-11-09T10:27:56.853948",
          "exception": false,
          "start_time": "2022-11-09T10:27:56.827601",
          "status": "completed"
        },
        "tags": [],
        "colab": {
          "base_uri": "https://localhost:8080/"
        }
      },
      "outputs": [
        {
          "output_type": "execute_result",
          "data": {
            "text/plain": [
              "Index(['satisfaction_level', 'last_evaluation', 'number_project',\n",
              "       'average_montly_hours', 'time_spend_company', 'Work_accident', 'left',\n",
              "       'promotion_last_5years', 'departments', 'salary'],\n",
              "      dtype='object')"
            ]
          },
          "metadata": {},
          "execution_count": 36
        }
      ],
      "source": [
        "df.columns"
      ]
    },
    {
      "cell_type": "code",
      "execution_count": null,
      "id": "eac33e3a",
      "metadata": {
        "execution": {
          "iopub.execute_input": "2022-11-09T10:27:56.888632Z",
          "iopub.status.busy": "2022-11-09T10:27:56.887487Z",
          "iopub.status.idle": "2022-11-09T10:27:56.897190Z",
          "shell.execute_reply": "2022-11-09T10:27:56.896195Z"
        },
        "id": "eac33e3a",
        "outputId": "bd70d04d-9261-4dd0-dcc3-8fdf02d847e5",
        "papermill": {
          "duration": 0.029452,
          "end_time": "2022-11-09T10:27:56.899586",
          "exception": false,
          "start_time": "2022-11-09T10:27:56.870134",
          "status": "completed"
        },
        "tags": [],
        "colab": {
          "base_uri": "https://localhost:8080/"
        }
      },
      "outputs": [
        {
          "output_type": "execute_result",
          "data": {
            "text/plain": [
              "array(['low', 'medium', 'high'], dtype=object)"
            ]
          },
          "metadata": {},
          "execution_count": 37
        }
      ],
      "source": [
        "df[\"salary\"].unique()"
      ]
    },
    {
      "cell_type": "code",
      "execution_count": null,
      "id": "c94a2372",
      "metadata": {
        "collapsed": true,
        "execution": {
          "iopub.execute_input": "2022-11-09T10:27:56.933431Z",
          "iopub.status.busy": "2022-11-09T10:27:56.932703Z",
          "iopub.status.idle": "2022-11-09T10:27:57.000347Z",
          "shell.execute_reply": "2022-11-09T10:27:56.999017Z"
        },
        "id": "c94a2372",
        "jupyter": {
          "outputs_hidden": true
        },
        "outputId": "0554eb5a-3172-4b16-f751-138fd02f174f",
        "papermill": {
          "duration": 0.09037,
          "end_time": "2022-11-09T10:27:57.005880",
          "exception": false,
          "start_time": "2022-11-09T10:27:56.915510",
          "status": "completed"
        },
        "tags": [],
        "colab": {
          "base_uri": "https://localhost:8080/"
        }
      },
      "outputs": [
        {
          "output_type": "stream",
          "name": "stdout",
          "text": [
            "\u001b[40m\u001b[33m Column name    :  satisfaction_level \u001b[0m\n",
            "\u001b[31m-------------------------------- \u001b[0m\n",
            "per_of_nulls   :  % 0.0\n",
            "num_of_nulls   :  0\n",
            "num_of_uniques :  92\n",
            "\u001b[31m-------------------------------- \u001b[0m\n",
            "Value counts\n",
            "0.100    358\n",
            "0.110    335\n",
            "0.740    257\n",
            "0.770    252\n",
            "0.840    247\n",
            "0.730    246\n",
            "0.780    241\n",
            "0.370    241\n",
            "0.820    241\n",
            "0.890    237\n",
            "0.830    234\n",
            "0.760    234\n",
            "0.720    230\n",
            "0.500    229\n",
            "0.660    228\n",
            "0.750    226\n",
            "0.870    225\n",
            "0.910    224\n",
            "0.430    224\n",
            "0.800    222\n",
            "0.810    220\n",
            "0.900    220\n",
            "0.590    219\n",
            "0.790    217\n",
            "0.440    211\n",
            "0.570    210\n",
            "0.400    209\n",
            "0.630    209\n",
            "0.490    209\n",
            "0.690    209\n",
            "0.610    208\n",
            "0.850    207\n",
            "0.700    205\n",
            "0.450    203\n",
            "0.960    203\n",
            "0.860    200\n",
            "0.650    199\n",
            "0.920    198\n",
            "0.520    196\n",
            "0.090    195\n",
            "0.600    193\n",
            "0.380    189\n",
            "0.620    188\n",
            "0.510    187\n",
            "0.880    187\n",
            "0.640    187\n",
            "0.560    187\n",
            "0.540    185\n",
            "0.980    183\n",
            "0.580    182\n",
            "0.950    181\n",
            "0.550    179\n",
            "0.530    179\n",
            "0.670    177\n",
            "0.970    176\n",
            "0.390    175\n",
            "0.990    172\n",
            "0.710    171\n",
            "0.410    171\n",
            "0.930    169\n",
            "0.940    167\n",
            "0.680    162\n",
            "0.420    155\n",
            "0.480    149\n",
            "0.360    139\n",
            "1.000    111\n",
            "0.460     95\n",
            "0.240     80\n",
            "0.160     79\n",
            "0.150     76\n",
            "0.190     74\n",
            "0.140     73\n",
            "0.170     72\n",
            "0.200     69\n",
            "0.210     67\n",
            "0.180     63\n",
            "0.220     60\n",
            "0.310     59\n",
            "0.230     54\n",
            "0.130     54\n",
            "0.320     50\n",
            "0.340     48\n",
            "0.470     42\n",
            "0.300     39\n",
            "0.290     38\n",
            "0.350     37\n",
            "0.330     36\n",
            "0.250     34\n",
            "0.280     31\n",
            "0.270     30\n",
            "0.260     30\n",
            "0.120     30\n",
            "Name: satisfaction_level, dtype: int64\n",
            "\u001b[31m-------------------------------- \u001b[0m\n",
            "Descriptive statistics\n",
            "count   14999.000\n",
            "mean        0.613\n",
            "std         0.249\n",
            "min         0.090\n",
            "25%         0.440\n",
            "50%         0.640\n",
            "75%         0.820\n",
            "max         1.000\n",
            "Name: satisfaction_level, dtype: float64\n",
            "\n",
            "\n",
            "\u001b[40m\u001b[33m Column name    :  last_evaluation \u001b[0m\n",
            "\u001b[31m-------------------------------- \u001b[0m\n",
            "per_of_nulls   :  % 0.0\n",
            "num_of_nulls   :  0\n",
            "num_of_uniques :  65\n",
            "\u001b[31m-------------------------------- \u001b[0m\n",
            "Value counts\n",
            "0.550    358\n",
            "0.500    353\n",
            "0.540    350\n",
            "0.510    345\n",
            "0.570    333\n",
            "0.490    332\n",
            "0.870    326\n",
            "0.530    324\n",
            "0.560    322\n",
            "0.850    316\n",
            "0.900    313\n",
            "0.520    309\n",
            "0.890    296\n",
            "0.840    294\n",
            "0.480    292\n",
            "0.910    287\n",
            "1.000    283\n",
            "0.970    276\n",
            "0.860    273\n",
            "0.930    269\n",
            "0.830    269\n",
            "0.920    269\n",
            "0.940    263\n",
            "0.980    263\n",
            "0.770    263\n",
            "0.740    260\n",
            "0.950    258\n",
            "0.990    258\n",
            "0.810    255\n",
            "0.590    255\n",
            "0.800    251\n",
            "0.960    249\n",
            "0.670    245\n",
            "0.790    241\n",
            "0.750    238\n",
            "0.820    237\n",
            "0.630    236\n",
            "0.640    235\n",
            "0.880    235\n",
            "0.610    234\n",
            "0.620    233\n",
            "0.580    225\n",
            "0.730    223\n",
            "0.680    222\n",
            "0.660    222\n",
            "0.600    221\n",
            "0.760    216\n",
            "0.780    214\n",
            "0.700    213\n",
            "0.460    211\n",
            "0.720    211\n",
            "0.650    201\n",
            "0.710    196\n",
            "0.690    193\n",
            "0.470    173\n",
            "0.450    115\n",
            "0.410     59\n",
            "0.400     57\n",
            "0.420     56\n",
            "0.370     55\n",
            "0.390     52\n",
            "0.430     50\n",
            "0.380     50\n",
            "0.440     44\n",
            "0.360     22\n",
            "Name: last_evaluation, dtype: int64\n",
            "\u001b[31m-------------------------------- \u001b[0m\n",
            "Descriptive statistics\n",
            "count   14999.000\n",
            "mean        0.716\n",
            "std         0.171\n",
            "min         0.360\n",
            "25%         0.560\n",
            "50%         0.720\n",
            "75%         0.870\n",
            "max         1.000\n",
            "Name: last_evaluation, dtype: float64\n",
            "\n",
            "\n",
            "\u001b[40m\u001b[33m Column name    :  number_project \u001b[0m\n",
            "\u001b[31m-------------------------------- \u001b[0m\n",
            "per_of_nulls   :  % 0.0\n",
            "num_of_nulls   :  0\n",
            "num_of_uniques :  6\n",
            "\u001b[31m-------------------------------- \u001b[0m\n",
            "Value counts\n",
            "4    4365\n",
            "3    4055\n",
            "5    2761\n",
            "2    2388\n",
            "6    1174\n",
            "7     256\n",
            "Name: number_project, dtype: int64\n",
            "\u001b[31m-------------------------------- \u001b[0m\n",
            "Descriptive statistics\n",
            "count   14999.000\n",
            "mean        3.803\n",
            "std         1.233\n",
            "min         2.000\n",
            "25%         3.000\n",
            "50%         4.000\n",
            "75%         5.000\n",
            "max         7.000\n",
            "Name: number_project, dtype: float64\n",
            "\n",
            "\n",
            "\u001b[40m\u001b[33m Column name    :  average_montly_hours \u001b[0m\n",
            "\u001b[31m-------------------------------- \u001b[0m\n",
            "per_of_nulls   :  % 0.0\n",
            "num_of_nulls   :  0\n",
            "num_of_uniques :  215\n",
            "\u001b[31m-------------------------------- \u001b[0m\n",
            "Value counts\n",
            "135    153\n",
            "156    153\n",
            "149    148\n",
            "151    147\n",
            "160    136\n",
            "145    134\n",
            "140    129\n",
            "143    127\n",
            "157    126\n",
            "257    126\n",
            "155    125\n",
            "260    124\n",
            "245    124\n",
            "158    124\n",
            "148    123\n",
            "137    122\n",
            "153    122\n",
            "154    121\n",
            "159    121\n",
            "139    120\n",
            "147    118\n",
            "141    115\n",
            "255    115\n",
            "134    114\n",
            "254    113\n",
            "243    112\n",
            "224    112\n",
            "152    112\n",
            "142    112\n",
            "264    111\n",
            "146    110\n",
            "258    110\n",
            "263    110\n",
            "150    108\n",
            "238    108\n",
            "247    108\n",
            "266    105\n",
            "136    104\n",
            "271    104\n",
            "144    102\n",
            "269    102\n",
            "246    102\n",
            "233    102\n",
            "261    102\n",
            "253    101\n",
            "132    100\n",
            "250    100\n",
            "244     98\n",
            "242     98\n",
            "251     98\n",
            "259     98\n",
            "232     97\n",
            "239     96\n",
            "192     96\n",
            "162     96\n",
            "173     96\n",
            "225     95\n",
            "274     94\n",
            "167     94\n",
            "268     93\n",
            "229     93\n",
            "185     93\n",
            "240     93\n",
            "270     93\n",
            "226     93\n",
            "223     93\n",
            "249     93\n",
            "168     92\n",
            "265     91\n",
            "237     90\n",
            "273     88\n",
            "138     88\n",
            "267     88\n",
            "180     88\n",
            "161     87\n",
            "256     87\n",
            "217     87\n",
            "133     87\n",
            "262     86\n",
            "198     86\n",
            "252     86\n",
            "201     86\n",
            "272     86\n",
            "169     86\n",
            "248     86\n",
            "178     85\n",
            "241     85\n",
            "219     85\n",
            "189     85\n",
            "183     84\n",
            "222     84\n",
            "171     83\n",
            "236     83\n",
            "206     83\n",
            "275     82\n",
            "221     81\n",
            "177     81\n",
            "176     81\n",
            "184     80\n",
            "191     80\n",
            "202     80\n",
            "211     79\n",
            "196     79\n",
            "218     79\n",
            "199     79\n",
            "164     78\n",
            "181     78\n",
            "174     78\n",
            "214     78\n",
            "165     78\n",
            "227     77\n",
            "231     77\n",
            "170     76\n",
            "186     76\n",
            "175     76\n",
            "216     76\n",
            "235     76\n",
            "228     76\n",
            "190     75\n",
            "182     75\n",
            "234     74\n",
            "205     73\n",
            "188     73\n",
            "166     73\n",
            "163     73\n",
            "179     73\n",
            "212     72\n",
            "210     72\n",
            "203     72\n",
            "127     72\n",
            "209     72\n",
            "208     72\n",
            "207     71\n",
            "194     71\n",
            "213     71\n",
            "172     70\n",
            "197     70\n",
            "131     69\n",
            "204     68\n",
            "215     68\n",
            "187     68\n",
            "193     67\n",
            "195     67\n",
            "128     65\n",
            "220     64\n",
            "129     63\n",
            "130     59\n",
            "230     59\n",
            "200     58\n",
            "286     50\n",
            "282     36\n",
            "278     35\n",
            "281     34\n",
            "285     33\n",
            "279     32\n",
            "287     30\n",
            "276     30\n",
            "280     29\n",
            "113     29\n",
            "104     28\n",
            "111     26\n",
            "126     25\n",
            "283     25\n",
            "121     24\n",
            "301     24\n",
            "284     24\n",
            "98      23\n",
            "296     21\n",
            "277     21\n",
            "123     20\n",
            "308     20\n",
            "106     19\n",
            "100     19\n",
            "289     19\n",
            "125     19\n",
            "108     18\n",
            "117     18\n",
            "109     18\n",
            "310     18\n",
            "305     18\n",
            "306     18\n",
            "102     17\n",
            "105     17\n",
            "304     17\n",
            "103     17\n",
            "291     17\n",
            "294     16\n",
            "101     16\n",
            "309     16\n",
            "292     15\n",
            "114     15\n",
            "290     15\n",
            "307     14\n",
            "115     14\n",
            "97      14\n",
            "124     13\n",
            "298     13\n",
            "293     13\n",
            "110     12\n",
            "295     12\n",
            "118     12\n",
            "300     11\n",
            "99      11\n",
            "122     11\n",
            "112     10\n",
            "107     10\n",
            "120     10\n",
            "116     10\n",
            "119     10\n",
            "302      8\n",
            "297      7\n",
            "288      6\n",
            "299      6\n",
            "96       6\n",
            "303      6\n",
            "Name: average_montly_hours, dtype: int64\n",
            "\u001b[31m-------------------------------- \u001b[0m\n",
            "Descriptive statistics\n",
            "count   14999.000\n",
            "mean      201.050\n",
            "std        49.943\n",
            "min        96.000\n",
            "25%       156.000\n",
            "50%       200.000\n",
            "75%       245.000\n",
            "max       310.000\n",
            "Name: average_montly_hours, dtype: float64\n",
            "\n",
            "\n",
            "\u001b[40m\u001b[33m Column name    :  time_spend_company \u001b[0m\n",
            "\u001b[31m-------------------------------- \u001b[0m\n",
            "per_of_nulls   :  % 0.0\n",
            "num_of_nulls   :  0\n",
            "num_of_uniques :  8\n",
            "\u001b[31m-------------------------------- \u001b[0m\n",
            "Value counts\n",
            "3     6443\n",
            "2     3244\n",
            "4     2557\n",
            "5     1473\n",
            "6      718\n",
            "10     214\n",
            "7      188\n",
            "8      162\n",
            "Name: time_spend_company, dtype: int64\n",
            "\u001b[31m-------------------------------- \u001b[0m\n",
            "Descriptive statistics\n",
            "count   14999.000\n",
            "mean        3.498\n",
            "std         1.460\n",
            "min         2.000\n",
            "25%         3.000\n",
            "50%         3.000\n",
            "75%         4.000\n",
            "max        10.000\n",
            "Name: time_spend_company, dtype: float64\n",
            "\n",
            "\n",
            "\u001b[40m\u001b[33m Column name    :  Work_accident \u001b[0m\n",
            "\u001b[31m-------------------------------- \u001b[0m\n",
            "per_of_nulls   :  % 0.0\n",
            "num_of_nulls   :  0\n",
            "num_of_uniques :  2\n",
            "\u001b[31m-------------------------------- \u001b[0m\n",
            "Value counts\n",
            "0    12830\n",
            "1     2169\n",
            "Name: Work_accident, dtype: int64\n",
            "\u001b[31m-------------------------------- \u001b[0m\n",
            "Descriptive statistics\n",
            "count   14999.000\n",
            "mean        0.145\n",
            "std         0.352\n",
            "min         0.000\n",
            "25%         0.000\n",
            "50%         0.000\n",
            "75%         0.000\n",
            "max         1.000\n",
            "Name: Work_accident, dtype: float64\n",
            "\n",
            "\n",
            "\u001b[40m\u001b[33m Column name    :  left \u001b[0m\n",
            "\u001b[31m-------------------------------- \u001b[0m\n",
            "per_of_nulls   :  % 0.0\n",
            "num_of_nulls   :  0\n",
            "num_of_uniques :  2\n",
            "\u001b[31m-------------------------------- \u001b[0m\n",
            "Value counts\n",
            "0    11428\n",
            "1     3571\n",
            "Name: left, dtype: int64\n",
            "\u001b[31m-------------------------------- \u001b[0m\n",
            "Descriptive statistics\n",
            "count   14999.000\n",
            "mean        0.238\n",
            "std         0.426\n",
            "min         0.000\n",
            "25%         0.000\n",
            "50%         0.000\n",
            "75%         0.000\n",
            "max         1.000\n",
            "Name: left, dtype: float64\n",
            "\n",
            "\n",
            "\u001b[40m\u001b[33m Column name    :  promotion_last_5years \u001b[0m\n",
            "\u001b[31m-------------------------------- \u001b[0m\n",
            "per_of_nulls   :  % 0.0\n",
            "num_of_nulls   :  0\n",
            "num_of_uniques :  2\n",
            "\u001b[31m-------------------------------- \u001b[0m\n",
            "Value counts\n",
            "0    14680\n",
            "1      319\n",
            "Name: promotion_last_5years, dtype: int64\n",
            "\u001b[31m-------------------------------- \u001b[0m\n",
            "Descriptive statistics\n",
            "count   14999.000\n",
            "mean        0.021\n",
            "std         0.144\n",
            "min         0.000\n",
            "25%         0.000\n",
            "50%         0.000\n",
            "75%         0.000\n",
            "max         1.000\n",
            "Name: promotion_last_5years, dtype: float64\n",
            "\n",
            "\n",
            "\u001b[40m\u001b[33m Column name    :  departments \u001b[0m\n",
            "\u001b[31m-------------------------------- \u001b[0m\n",
            "per_of_nulls   :  % 0.0\n",
            "num_of_nulls   :  0\n",
            "num_of_uniques :  10\n",
            "\u001b[31m-------------------------------- \u001b[0m\n",
            "Value counts\n",
            "sales          4140\n",
            "technical      2720\n",
            "support        2229\n",
            "IT             1227\n",
            "product_mng     902\n",
            "marketing       858\n",
            "RandD           787\n",
            "accounting      767\n",
            "hr              739\n",
            "management      630\n",
            "Name: departments, dtype: int64\n",
            "\u001b[31m-------------------------------- \u001b[0m\n",
            "Descriptive statistics\n",
            "count     14999\n",
            "unique       10\n",
            "top       sales\n",
            "freq       4140\n",
            "Name: departments, dtype: object\n",
            "\n",
            "\n",
            "\u001b[40m\u001b[33m Column name    :  salary \u001b[0m\n",
            "\u001b[31m-------------------------------- \u001b[0m\n",
            "per_of_nulls   :  % 0.0\n",
            "num_of_nulls   :  0\n",
            "num_of_uniques :  3\n",
            "\u001b[31m-------------------------------- \u001b[0m\n",
            "Value counts\n",
            "low       7316\n",
            "medium    6446\n",
            "high      1237\n",
            "Name: salary, dtype: int64\n",
            "\u001b[31m-------------------------------- \u001b[0m\n",
            "Descriptive statistics\n",
            "count     14999\n",
            "unique        3\n",
            "top         low\n",
            "freq       7316\n",
            "Name: salary, dtype: object\n",
            "\n",
            "\n"
          ]
        }
      ],
      "source": [
        "for col in df.columns:\n",
        "    first_looking(col)"
      ]
    },
    {
      "cell_type": "markdown",
      "id": "75b61c35",
      "metadata": {
        "id": "75b61c35",
        "papermill": {
          "duration": 0.016159,
          "end_time": "2022-11-09T10:27:57.038705",
          "exception": false,
          "start_time": "2022-11-09T10:27:57.022546",
          "status": "completed"
        },
        "tags": []
      },
      "source": [
        "## 2. Data Visualization\n",
        "\n",
        "You can search for answers to the following questions using data visualization methods. Based on these responses, you can develop comments about the factors that cause churn.\n",
        "- How does the promotion status affect employee churn?\n",
        "- How does years of experience affect employee churn?\n",
        "- How does workload affect employee churn?\n",
        "- How does the salary level affect employee churn?\n",
        "\n",
        "*Feel free to add more visualization"
      ]
    },
    {
      "cell_type": "code",
      "execution_count": null,
      "id": "33e0c34e",
      "metadata": {
        "execution": {
          "iopub.execute_input": "2022-11-09T10:27:57.074520Z",
          "iopub.status.busy": "2022-11-09T10:27:57.074068Z",
          "iopub.status.idle": "2022-11-09T10:27:57.082564Z",
          "shell.execute_reply": "2022-11-09T10:27:57.081235Z"
        },
        "id": "33e0c34e",
        "outputId": "e5129f51-606f-48cb-d3d2-ddea5eeab0dc",
        "papermill": {
          "duration": 0.02989,
          "end_time": "2022-11-09T10:27:57.085029",
          "exception": false,
          "start_time": "2022-11-09T10:27:57.055139",
          "status": "completed"
        },
        "tags": [],
        "colab": {
          "base_uri": "https://localhost:8080/"
        }
      },
      "outputs": [
        {
          "output_type": "execute_result",
          "data": {
            "text/plain": [
              "Index(['satisfaction_level', 'last_evaluation', 'number_project',\n",
              "       'average_montly_hours', 'time_spend_company', 'Work_accident', 'left',\n",
              "       'promotion_last_5years', 'departments', 'salary'],\n",
              "      dtype='object')"
            ]
          },
          "metadata": {},
          "execution_count": 39
        }
      ],
      "source": [
        "df.columns"
      ]
    },
    {
      "cell_type": "markdown",
      "id": "e2c42b3c",
      "metadata": {
        "id": "e2c42b3c",
        "papermill": {
          "duration": 0.016749,
          "end_time": "2022-11-09T10:27:57.118390",
          "exception": false,
          "start_time": "2022-11-09T10:27:57.101641",
          "status": "completed"
        },
        "tags": []
      },
      "source": [
        "### Employees Left\n",
        "\n",
        "Let's check how many employees were left?\n",
        "Here, you can plot a bar graph using Matplotlib. The bar graph is suitable for showing discrete variable counts."
      ]
    },
    {
      "cell_type": "code",
      "execution_count": null,
      "id": "afe0e926",
      "metadata": {
        "execution": {
          "iopub.execute_input": "2022-11-09T10:27:57.153591Z",
          "iopub.status.busy": "2022-11-09T10:27:57.153155Z",
          "iopub.status.idle": "2022-11-09T10:27:57.331617Z",
          "shell.execute_reply": "2022-11-09T10:27:57.330314Z"
        },
        "id": "afe0e926",
        "outputId": "1c1c9473-9832-4a5c-9b6b-f14ef2c126b0",
        "papermill": {
          "duration": 0.199897,
          "end_time": "2022-11-09T10:27:57.334847",
          "exception": false,
          "start_time": "2022-11-09T10:27:57.134950",
          "status": "completed"
        },
        "tags": [],
        "colab": {
          "base_uri": "https://localhost:8080/",
          "height": 248
        }
      },
      "outputs": [
        {
          "output_type": "display_data",
          "data": {
            "text/plain": [
              "<Figure size 288x288 with 1 Axes>"
            ],
            "image/png": "[encoded data removed]"
          },
          "metadata": {}
        }
      ],
      "source": [
        "plt.figure(figsize=(4,4))\n",
        "plt.pie(df.left.value_counts(normalize=True), labels=[\"on the job\", \"left the job\"],shadow=True, explode=(0, 0.1), autopct='%.0f%%')\n",
        "plt.show;"
      ]
    },
    {
      "cell_type": "markdown",
      "id": "227bec46",
      "metadata": {
        "id": "227bec46",
        "papermill": {
          "duration": 0.029152,
          "end_time": "2022-11-09T10:27:57.393528",
          "exception": false,
          "start_time": "2022-11-09T10:27:57.364376",
          "status": "completed"
        },
        "tags": []
      },
      "source": [
        "### Number of Projects\n",
        "\n",
        "Similarly, you can also plot a bar graph to count the number of employees deployed on how many projects?"
      ]
    },
    {
      "cell_type": "markdown",
      "id": "aebf2ceb",
      "metadata": {
        "id": "aebf2ceb",
        "papermill": {
          "duration": 0.016809,
          "end_time": "2022-11-09T10:27:57.433558",
          "exception": false,
          "start_time": "2022-11-09T10:27:57.416749",
          "status": "completed"
        },
        "tags": []
      },
      "source": [
        "### Subplots of Features\n",
        "\n",
        "You can use the methods of the matplotlib."
      ]
    },
    {
      "cell_type": "code",
      "execution_count": null,
      "id": "e5f7a371",
      "metadata": {
        "execution": {
          "iopub.execute_input": "2022-11-09T10:27:57.470255Z",
          "iopub.status.busy": "2022-11-09T10:27:57.469595Z",
          "iopub.status.idle": "2022-11-09T10:27:59.543987Z",
          "shell.execute_reply": "2022-11-09T10:27:59.542773Z"
        },
        "id": "e5f7a371",
        "outputId": "c5bcaa64-37c5-4b35-f1a9-229fbe4afc21",
        "papermill": {
          "duration": 2.09604,
          "end_time": "2022-11-09T10:27:59.546644",
          "exception": false,
          "start_time": "2022-11-09T10:27:57.450604",
          "status": "completed"
        },
        "tags": [],
        "colab": {
          "base_uri": "https://localhost:8080/",
          "height": 528
        }
      },
      "outputs": [
        {
          "output_type": "display_data",
          "data": {
            "text/plain": [
              "<Figure size 1008x576 with 5 Axes>"
            ],
            "image/png": "[encoded data removed]"
          },
          "metadata": {}
        }
      ],
      "source": [
        "df_num = df.select_dtypes(\"number\").drop(columns=[\"Work_accident\", \"promotion_last_5years\" ])\n",
        "\n",
        "\n",
        "plt.figure(figsize=(14,8))\n",
        "i =1\n",
        "\n",
        "for col in df_num.drop(columns = \"left\").columns:\n",
        "    plt.subplot(2,3,i)\n",
        "    ax = sns.barplot(data=df_num, x=\"left\", y=col)\n",
        "    ax.bar_label(ax.containers[0], fmt=\"mean    %.2f\")\n",
        "    i +=1;\n",
        "    \n",
        "plt.subplots_adjust(top=0.93, wspace=0.4, hspace=0.4)"
      ]
    },
    {
      "cell_type": "code",
      "execution_count": null,
      "id": "852bec4b",
      "metadata": {
        "execution": {
          "iopub.execute_input": "2022-11-09T10:27:59.584117Z",
          "iopub.status.busy": "2022-11-09T10:27:59.583692Z",
          "iopub.status.idle": "2022-11-09T10:28:00.000369Z",
          "shell.execute_reply": "2022-11-09T10:27:59.999258Z"
        },
        "id": "852bec4b",
        "outputId": "e511b062-66dd-40e4-feca-c1e05029df34",
        "papermill": {
          "duration": 0.439079,
          "end_time": "2022-11-09T10:28:00.003731",
          "exception": false,
          "start_time": "2022-11-09T10:27:59.564652",
          "status": "completed"
        },
        "tags": [],
        "colab": {
          "base_uri": "https://localhost:8080/",
          "height": 280
        }
      },
      "outputs": [
        {
          "output_type": "display_data",
          "data": {
            "text/plain": [
              "<Figure size 720x288 with 2 Axes>"
            ],
            "image/png": "[encoded data removed]"
          },
          "metadata": {}
        }
      ],
      "source": [
        "plt.figure(figsize=(10,4))\n",
        "\n",
        "plt.subplot(121)\n",
        "ax = sns.countplot(data=df, hue='left', x='promotion_last_5years');\n",
        "for p in ax.containers:\n",
        "    ax.bar_label(p)\n",
        "    \n",
        "df_per = pd.DataFrame(df.groupby(\"promotion_last_5years\")[\"left\"].value_counts(normalize=True))\n",
        "df_per = df_per.rename(columns={\"left\": \"per\"}).reset_index().sort_values(by=\"per\")\n",
        "\n",
        "plt.subplot(122)\n",
        "ax = sns.barplot(data=df_per, x=\"promotion_last_5years\", y=\"per\", hue=\"left\",\n",
        "                 order=(df.promotion_last_5years.value_counts().index)\n",
        "                )\n",
        "ax.set(ylabel='percentage')\n",
        "\n",
        "for p in ax.containers:\n",
        "    ax.bar_label(p, fmt='%.2f')"
      ]
    },
    {
      "cell_type": "code",
      "execution_count": null,
      "id": "878c80cd",
      "metadata": {
        "execution": {
          "iopub.execute_input": "2022-11-09T10:28:00.045155Z",
          "iopub.status.busy": "2022-11-09T10:28:00.044743Z",
          "iopub.status.idle": "2022-11-09T10:28:00.468067Z",
          "shell.execute_reply": "2022-11-09T10:28:00.466829Z"
        },
        "id": "878c80cd",
        "outputId": "0c7a8e21-114f-42c2-8d61-6cbd2cab1949",
        "papermill": {
          "duration": 0.445574,
          "end_time": "2022-11-09T10:28:00.470674",
          "exception": false,
          "start_time": "2022-11-09T10:28:00.025100",
          "status": "completed"
        },
        "tags": [],
        "colab": {
          "base_uri": "https://localhost:8080/",
          "height": 280
        }
      },
      "outputs": [
        {
          "output_type": "display_data",
          "data": {
            "text/plain": [
              "<Figure size 720x288 with 2 Axes>"
            ],
            "image/png": "[encoded data removed]"
          },
          "metadata": {}
        }
      ],
      "source": [
        "plt.figure(figsize=(10,4))\n",
        "plt.subplot(121)\n",
        "ax = sns.countplot(data=df, x='Work_accident', hue='left');\n",
        "for p in ax.containers:\n",
        "    ax.bar_label(p)\n",
        "    \n",
        "plt.subplot(122)\n",
        "\n",
        "df_per = pd.DataFrame(df.groupby(\"Work_accident\")[\"left\"].value_counts(normalize=True))\n",
        "df_per = df_per.rename(columns={\"left\": \"per\"}).reset_index().sort_values(by=\"per\")\n",
        "\n",
        "ax = sns.barplot(data=df_per, order=(df.Work_accident.value_counts().index), \n",
        "                hue=\"left\", y=\"per\", x=\"Work_accident\")\n",
        "ax.set(ylabel='percentage')\n",
        "\n",
        "for p in ax.containers:\n",
        "    ax.bar_label(p, fmt='%.2f')"
      ]
    },
    {
      "cell_type": "code",
      "execution_count": null,
      "id": "540e6d62",
      "metadata": {
        "execution": {
          "iopub.execute_input": "2022-11-09T10:28:00.509732Z",
          "iopub.status.busy": "2022-11-09T10:28:00.509334Z",
          "iopub.status.idle": "2022-11-09T10:28:00.983531Z",
          "shell.execute_reply": "2022-11-09T10:28:00.982303Z"
        },
        "id": "540e6d62",
        "outputId": "fd63e40e-5e52-4df2-daf5-31d25aad7208",
        "papermill": {
          "duration": 0.496325,
          "end_time": "2022-11-09T10:28:00.985902",
          "exception": false,
          "start_time": "2022-11-09T10:28:00.489577",
          "status": "completed"
        },
        "tags": [],
        "colab": {
          "base_uri": "https://localhost:8080/",
          "height": 646
        }
      },
      "outputs": [
        {
          "output_type": "error",
          "ename": "AttributeError",
          "evalue": "ignored",
          "traceback": [
            "\u001b[0;31m---------------------------------------------------------------------------\u001b[0m",
            "\u001b[0;31mAttributeError\u001b[0m                            Traceback (most recent call last)",
            "\u001b[0;32m<ipython-input-47-208cb3a01126>\u001b[0m in \u001b[0;36m<module>\u001b[0;34m\u001b[0m\n\u001b[1;32m     11\u001b[0m \u001b[0;34m\u001b[0m\u001b[0m\n\u001b[1;32m     12\u001b[0m ax = sns.barplot(data=df_per, order=(df.salary.value_counts().index), \n\u001b[0;32m---> 13\u001b[0;31m                 x=\"salary\", y=0, hue=\"left\")\n\u001b[0m\u001b[1;32m     14\u001b[0m \u001b[0max\u001b[0m\u001b[0;34m.\u001b[0m\u001b[0mset\u001b[0m\u001b[0;34m(\u001b[0m\u001b[0mylabel\u001b[0m\u001b[0;34m=\u001b[0m\u001b[0;34m'percentage'\u001b[0m\u001b[0;34m)\u001b[0m\u001b[0;34m\u001b[0m\u001b[0;34m\u001b[0m\u001b[0m\n\u001b[1;32m     15\u001b[0m \u001b[0;34m\u001b[0m\u001b[0m\n",
            "\u001b[0;32m/usr/local/lib/python3.7/dist-packages/seaborn/_decorators.py\u001b[0m in \u001b[0;36minner_f\u001b[0;34m(*args, **kwargs)\u001b[0m\n\u001b[1;32m     44\u001b[0m             )\n\u001b[1;32m     45\u001b[0m         \u001b[0mkwargs\u001b[0m\u001b[0;34m.\u001b[0m\u001b[0mupdate\u001b[0m\u001b[0;34m(\u001b[0m\u001b[0;34m{\u001b[0m\u001b[0mk\u001b[0m\u001b[0;34m:\u001b[0m \u001b[0marg\u001b[0m \u001b[0;32mfor\u001b[0m \u001b[0mk\u001b[0m\u001b[0;34m,\u001b[0m \u001b[0marg\u001b[0m \u001b[0;32min\u001b[0m \u001b[0mzip\u001b[0m\u001b[0;34m(\u001b[0m\u001b[0msig\u001b[0m\u001b[0;34m.\u001b[0m\u001b[0mparameters\u001b[0m\u001b[0;34m,\u001b[0m \u001b[0margs\u001b[0m\u001b[0;34m)\u001b[0m\u001b[0;34m}\u001b[0m\u001b[0;34m)\u001b[0m\u001b[0;34m\u001b[0m\u001b[0;34m\u001b[0m\u001b[0m\n\u001b[0;32m---> 46\u001b[0;31m         \u001b[0;32mreturn\u001b[0m \u001b[0mf\u001b[0m\u001b[0;34m(\u001b[0m\u001b[0;34m**\u001b[0m\u001b[0mkwargs\u001b[0m\u001b[0;34m)\u001b[0m\u001b[0;34m\u001b[0m\u001b[0;34m\u001b[0m\u001b[0m\n\u001b[0m\u001b[1;32m     47\u001b[0m     \u001b[0;32mreturn\u001b[0m \u001b[0minner_f\u001b[0m\u001b[0;34m\u001b[0m\u001b[0;34m\u001b[0m\u001b[0m\n\u001b[1;32m     48\u001b[0m \u001b[0;34m\u001b[0m\u001b[0m\n",
            "\u001b[0;32m/usr/local/lib/python3.7/dist-packages/seaborn/categorical.py\u001b[0m in \u001b[0;36mbarplot\u001b[0;34m(x, y, hue, data, order, hue_order, estimator, ci, n_boot, units, seed, orient, color, palette, saturation, errcolor, errwidth, capsize, dodge, ax, **kwargs)\u001b[0m\n\u001b[1;32m   3183\u001b[0m                           \u001b[0mestimator\u001b[0m\u001b[0;34m,\u001b[0m \u001b[0mci\u001b[0m\u001b[0;34m,\u001b[0m \u001b[0mn_boot\u001b[0m\u001b[0;34m,\u001b[0m \u001b[0munits\u001b[0m\u001b[0;34m,\u001b[0m \u001b[0mseed\u001b[0m\u001b[0;34m,\u001b[0m\u001b[0;34m\u001b[0m\u001b[0;34m\u001b[0m\u001b[0m\n\u001b[1;32m   3184\u001b[0m                           \u001b[0morient\u001b[0m\u001b[0;34m,\u001b[0m \u001b[0mcolor\u001b[0m\u001b[0;34m,\u001b[0m \u001b[0mpalette\u001b[0m\u001b[0;34m,\u001b[0m \u001b[0msaturation\u001b[0m\u001b[0;34m,\u001b[0m\u001b[0;34m\u001b[0m\u001b[0;34m\u001b[0m\u001b[0m\n\u001b[0;32m-> 3185\u001b[0;31m                           errcolor, errwidth, capsize, dodge)\n\u001b[0m\u001b[1;32m   3186\u001b[0m \u001b[0;34m\u001b[0m\u001b[0m\n\u001b[1;32m   3187\u001b[0m     \u001b[0;32mif\u001b[0m \u001b[0max\u001b[0m \u001b[0;32mis\u001b[0m \u001b[0;32mNone\u001b[0m\u001b[0;34m:\u001b[0m\u001b[0;34m\u001b[0m\u001b[0;34m\u001b[0m\u001b[0m\n",
            "\u001b[0;32m/usr/local/lib/python3.7/dist-packages/seaborn/categorical.py\u001b[0m in \u001b[0;36m__init__\u001b[0;34m(self, x, y, hue, data, order, hue_order, estimator, ci, n_boot, units, seed, orient, color, palette, saturation, errcolor, errwidth, capsize, dodge)\u001b[0m\n\u001b[1;32m   1583\u001b[0m         \u001b[0;34m\"\"\"Initialize the plotter.\"\"\"\u001b[0m\u001b[0;34m\u001b[0m\u001b[0;34m\u001b[0m\u001b[0m\n\u001b[1;32m   1584\u001b[0m         self.establish_variables(x, y, hue, data, orient,\n\u001b[0;32m-> 1585\u001b[0;31m                                  order, hue_order, units)\n\u001b[0m\u001b[1;32m   1586\u001b[0m         \u001b[0mself\u001b[0m\u001b[0;34m.\u001b[0m\u001b[0mestablish_colors\u001b[0m\u001b[0;34m(\u001b[0m\u001b[0mcolor\u001b[0m\u001b[0;34m,\u001b[0m \u001b[0mpalette\u001b[0m\u001b[0;34m,\u001b[0m \u001b[0msaturation\u001b[0m\u001b[0;34m)\u001b[0m\u001b[0;34m\u001b[0m\u001b[0;34m\u001b[0m\u001b[0m\n\u001b[1;32m   1587\u001b[0m         \u001b[0mself\u001b[0m\u001b[0;34m.\u001b[0m\u001b[0mestimate_statistic\u001b[0m\u001b[0;34m(\u001b[0m\u001b[0mestimator\u001b[0m\u001b[0;34m,\u001b[0m \u001b[0mci\u001b[0m\u001b[0;34m,\u001b[0m \u001b[0mn_boot\u001b[0m\u001b[0;34m,\u001b[0m \u001b[0mseed\u001b[0m\u001b[0;34m)\u001b[0m\u001b[0;34m\u001b[0m\u001b[0;34m\u001b[0m\u001b[0m\n",
            "\u001b[0;32m/usr/local/lib/python3.7/dist-packages/seaborn/categorical.py\u001b[0m in \u001b[0;36mestablish_variables\u001b[0;34m(self, x, y, hue, data, orient, order, hue_order, units)\u001b[0m\n\u001b[1;32m    155\u001b[0m             \u001b[0;31m# Figure out the plotting orientation\u001b[0m\u001b[0;34m\u001b[0m\u001b[0;34m\u001b[0m\u001b[0;34m\u001b[0m\u001b[0m\n\u001b[1;32m    156\u001b[0m             orient = infer_orient(\n\u001b[0;32m--> 157\u001b[0;31m                 \u001b[0mx\u001b[0m\u001b[0;34m,\u001b[0m \u001b[0my\u001b[0m\u001b[0;34m,\u001b[0m \u001b[0morient\u001b[0m\u001b[0;34m,\u001b[0m \u001b[0mrequire_numeric\u001b[0m\u001b[0;34m=\u001b[0m\u001b[0mself\u001b[0m\u001b[0;34m.\u001b[0m\u001b[0mrequire_numeric\u001b[0m\u001b[0;34m\u001b[0m\u001b[0;34m\u001b[0m\u001b[0m\n\u001b[0m\u001b[1;32m    158\u001b[0m             )\n\u001b[1;32m    159\u001b[0m \u001b[0;34m\u001b[0m\u001b[0m\n",
            "\u001b[0;32m/usr/local/lib/python3.7/dist-packages/seaborn/_core.py\u001b[0m in \u001b[0;36minfer_orient\u001b[0;34m(x, y, orient, require_numeric)\u001b[0m\n\u001b[1;32m   1310\u001b[0m \u001b[0;34m\u001b[0m\u001b[0m\n\u001b[1;32m   1311\u001b[0m     \u001b[0mx_type\u001b[0m \u001b[0;34m=\u001b[0m \u001b[0;32mNone\u001b[0m \u001b[0;32mif\u001b[0m \u001b[0mx\u001b[0m \u001b[0;32mis\u001b[0m \u001b[0;32mNone\u001b[0m \u001b[0;32melse\u001b[0m \u001b[0mvariable_type\u001b[0m\u001b[0;34m(\u001b[0m\u001b[0mx\u001b[0m\u001b[0;34m)\u001b[0m\u001b[0;34m\u001b[0m\u001b[0;34m\u001b[0m\u001b[0m\n\u001b[0;32m-> 1312\u001b[0;31m     \u001b[0my_type\u001b[0m \u001b[0;34m=\u001b[0m \u001b[0;32mNone\u001b[0m \u001b[0;32mif\u001b[0m \u001b[0my\u001b[0m \u001b[0;32mis\u001b[0m \u001b[0;32mNone\u001b[0m \u001b[0;32melse\u001b[0m \u001b[0mvariable_type\u001b[0m\u001b[0;34m(\u001b[0m\u001b[0my\u001b[0m\u001b[0;34m)\u001b[0m\u001b[0;34m\u001b[0m\u001b[0;34m\u001b[0m\u001b[0m\n\u001b[0m\u001b[1;32m   1313\u001b[0m \u001b[0;34m\u001b[0m\u001b[0m\n\u001b[1;32m   1314\u001b[0m     \u001b[0mnonnumeric_dv_error\u001b[0m \u001b[0;34m=\u001b[0m \u001b[0;34m\"{} orientation requires numeric `{}` variable.\"\u001b[0m\u001b[0;34m\u001b[0m\u001b[0;34m\u001b[0m\u001b[0m\n",
            "\u001b[0;32m/usr/local/lib/python3.7/dist-packages/seaborn/_core.py\u001b[0m in \u001b[0;36mvariable_type\u001b[0;34m(vector, boolean_type)\u001b[0m\n\u001b[1;32m   1227\u001b[0m \u001b[0;34m\u001b[0m\u001b[0m\n\u001b[1;32m   1228\u001b[0m     \u001b[0;31m# Special-case all-na data, which is always \"numeric\"\u001b[0m\u001b[0;34m\u001b[0m\u001b[0;34m\u001b[0m\u001b[0;34m\u001b[0m\u001b[0m\n\u001b[0;32m-> 1229\u001b[0;31m     \u001b[0;32mif\u001b[0m \u001b[0mpd\u001b[0m\u001b[0;34m.\u001b[0m\u001b[0misna\u001b[0m\u001b[0;34m(\u001b[0m\u001b[0mvector\u001b[0m\u001b[0;34m)\u001b[0m\u001b[0;34m.\u001b[0m\u001b[0mall\u001b[0m\u001b[0;34m(\u001b[0m\u001b[0;34m)\u001b[0m\u001b[0;34m:\u001b[0m\u001b[0;34m\u001b[0m\u001b[0;34m\u001b[0m\u001b[0m\n\u001b[0m\u001b[1;32m   1230\u001b[0m         \u001b[0;32mreturn\u001b[0m \u001b[0;34m\"numeric\"\u001b[0m\u001b[0;34m\u001b[0m\u001b[0;34m\u001b[0m\u001b[0m\n\u001b[1;32m   1231\u001b[0m \u001b[0;34m\u001b[0m\u001b[0m\n",
            "\u001b[0;31mAttributeError\u001b[0m: 'bool' object has no attribute 'all'"
          ]
        },
        {
          "output_type": "display_data",
          "data": {
            "text/plain": [
              "<Figure size 864x288 with 2 Axes>"
            ],
            "image/png": "[encoded data removed]"
          },
          "metadata": {}
        }
      ],
      "source": [
        "plt.figure(figsize=(12,4))\n",
        "plt.subplot(121)\n",
        "ax = sns.countplot(data=df, hue='left', x='salary');\n",
        "for p in ax.containers:\n",
        "    ax.bar_label(p)\n",
        "    \n",
        "plt.subplot(122)\n",
        "\n",
        "df_per = pd.DataFrame(df.groupby(\"salary\")[\"left\"].value_counts(normalize=True))\n",
        "df_per = df_per.rename(columns={\"left\": \"per\"}).reset_index().sort_values(by=\"per\")\n",
        "\n",
        "ax = sns.barplot(data=df_per, order=(df.salary.value_counts().index), \n",
        "                x=\"salary\", y=0, hue=\"left\")\n",
        "ax.set(ylabel='percentage')\n",
        "\n",
        "for p in ax.containers:\n",
        "    ax.bar_label(p, fmt='%.2f')"
      ]
    },
    {
      "cell_type": "code",
      "execution_count": null,
      "id": "ad2138ed",
      "metadata": {
        "execution": {
          "iopub.execute_input": "2022-11-09T10:28:01.025628Z",
          "iopub.status.busy": "2022-11-09T10:28:01.024543Z",
          "iopub.status.idle": "2022-11-09T10:28:01.033876Z",
          "shell.execute_reply": "2022-11-09T10:28:01.032659Z"
        },
        "id": "ad2138ed",
        "outputId": "30524265-b274-407c-c3a5-71ef39f6753d",
        "papermill": {
          "duration": 0.031918,
          "end_time": "2022-11-09T10:28:01.036423",
          "exception": false,
          "start_time": "2022-11-09T10:28:01.004505",
          "status": "completed"
        },
        "tags": [],
        "colab": {
          "base_uri": "https://localhost:8080/"
        }
      },
      "outputs": [
        {
          "output_type": "execute_result",
          "data": {
            "text/plain": [
              "sales          4140\n",
              "technical      2720\n",
              "support        2229\n",
              "IT             1227\n",
              "product_mng     902\n",
              "marketing       858\n",
              "RandD           787\n",
              "accounting      767\n",
              "hr              739\n",
              "management      630\n",
              "Name: departments, dtype: int64"
            ]
          },
          "metadata": {},
          "execution_count": 48
        }
      ],
      "source": [
        "df.departments.value_counts()\n",
        "#.index"
      ]
    },
    {
      "cell_type": "code",
      "execution_count": null,
      "id": "33bfcf42",
      "metadata": {
        "execution": {
          "iopub.execute_input": "2022-11-09T10:28:01.075912Z",
          "iopub.status.busy": "2022-11-09T10:28:01.075508Z",
          "iopub.status.idle": "2022-11-09T10:28:02.074616Z",
          "shell.execute_reply": "2022-11-09T10:28:02.073445Z"
        },
        "id": "33bfcf42",
        "outputId": "0702f24b-4dfa-4fb8-8f6a-681cc3b84e79",
        "papermill": {
          "duration": 1.021704,
          "end_time": "2022-11-09T10:28:02.077004",
          "exception": false,
          "start_time": "2022-11-09T10:28:01.055300",
          "status": "completed"
        },
        "tags": [],
        "colab": {
          "base_uri": "https://localhost:8080/",
          "height": 541
        }
      },
      "outputs": [
        {
          "output_type": "display_data",
          "data": {
            "text/plain": [
              "<Figure size 1152x576 with 2 Axes>"
            ],
            "image/png": "[encoded data removed]"
          },
          "metadata": {}
        }
      ],
      "source": [
        "plt.figure(figsize=(16,8))\n",
        "\n",
        "plt.subplot(121)\n",
        "ax = sns.countplot(data=df, x='departments', hue='left',\n",
        "                   order=(df.departments.value_counts().index));\n",
        "plt.xticks(rotation=45)\n",
        "for p in ax.containers:\n",
        "    ax.bar_label(p)\n",
        "\n",
        "    \n",
        "df_per = pd.DataFrame(df.groupby(\"departments\")[\"left\"].value_counts(normalize=True))\n",
        "df_per = df_per.rename(columns={\"left\": \"per\"}).reset_index().sort_values(by=\"per\")\n",
        "\n",
        "plt.subplot(122)\n",
        "ax = sns.barplot(data=df_per, x=\"departments\", y=\"per\", hue=\"left\",\n",
        "                                    order=(df.departments.value_counts().index))\n",
        "plt.xticks(rotation=45)\n",
        "ax.set(ylabel='percentage')\n",
        "for p in ax.containers:\n",
        "    ax.bar_label(p, fmt='%.2f')\n",
        "\n"
      ]
    },
    {
      "cell_type": "code",
      "execution_count": null,
      "id": "c5d6d411",
      "metadata": {
        "execution": {
          "iopub.execute_input": "2022-11-09T10:28:02.119958Z",
          "iopub.status.busy": "2022-11-09T10:28:02.119195Z",
          "iopub.status.idle": "2022-11-09T10:28:02.504856Z",
          "shell.execute_reply": "2022-11-09T10:28:02.503724Z"
        },
        "id": "c5d6d411",
        "outputId": "6874f2a0-10a7-4ed6-f19d-c88e3b7bcb26",
        "papermill": {
          "duration": 0.409588,
          "end_time": "2022-11-09T10:28:02.507233",
          "exception": false,
          "start_time": "2022-11-09T10:28:02.097645",
          "status": "completed"
        },
        "tags": [],
        "colab": {
          "base_uri": "https://localhost:8080/",
          "height": 402
        }
      },
      "outputs": [
        {
          "output_type": "execute_result",
          "data": {
            "text/plain": [
              "Text(0.5, 1.0, 'Correlation Matrix')"
            ]
          },
          "metadata": {},
          "execution_count": 51
        },
        {
          "output_type": "display_data",
          "data": {
            "text/plain": [
              "<Figure size 360x288 with 2 Axes>"
            ],
            "image/png": "[encoded data removed]"
          },
          "metadata": {}
        }
      ],
      "source": [
        "plt.figure(figsize=(5,4))\n",
        "sns.heatmap(df_num.drop(columns=\"left\").corr(),annot=True, cmap='viridis')\n",
        "plt.title(\"Correlation Matrix\")"
      ]
    },
    {
      "cell_type": "markdown",
      "id": "6eaa0655",
      "metadata": {
        "id": "6eaa0655",
        "papermill": {
          "duration": 0.02013,
          "end_time": "2022-11-09T10:28:02.547959",
          "exception": false,
          "start_time": "2022-11-09T10:28:02.527829",
          "status": "completed"
        },
        "tags": []
      },
      "source": [
        "## 3. Model Building"
      ]
    },
    {
      "cell_type": "markdown",
      "id": "6b308422",
      "metadata": {
        "id": "6b308422",
        "papermill": {
          "duration": 0.020161,
          "end_time": "2022-11-09T10:28:02.588592",
          "exception": false,
          "start_time": "2022-11-09T10:28:02.568431",
          "status": "completed"
        },
        "tags": []
      },
      "source": [
        "### Split Data as Train and Test Set"
      ]
    },
    {
      "cell_type": "markdown",
      "id": "5967f141",
      "metadata": {
        "id": "5967f141",
        "papermill": {
          "duration": 0.02003,
          "end_time": "2022-11-09T10:28:02.629555",
          "exception": false,
          "start_time": "2022-11-09T10:28:02.609525",
          "status": "completed"
        },
        "tags": []
      },
      "source": [
        "#### Evaluating Model Performance and Tuning"
      ]
    },
    {
      "cell_type": "markdown",
      "id": "90726a4a",
      "metadata": {
        "id": "90726a4a",
        "papermill": {
          "duration": 0.020498,
          "end_time": "2022-11-09T10:28:02.670483",
          "exception": false,
          "start_time": "2022-11-09T10:28:02.649985",
          "status": "completed"
        },
        "tags": []
      },
      "source": [
        "- Confusion Matrix : You can use scikit-learn metrics module for accuracy calculation. A Confusion matrix is an N x N matrix used for evaluating the performance of a classification model, where N is the number of target classes. The matrix compares the actual target values with those predicted by the machine learning model. This gives us a holistic view of how well our classification model is performing and what kinds of errors it is making.\n",
        "\n",
        "    [Confusion Matrix](https://www.analyticsvidhya.com/blog/2020/04/confusion-matrix-machine-learning/)"
      ]
    },
    {
      "cell_type": "markdown",
      "id": "82d1613c",
      "metadata": {
        "id": "82d1613c",
        "papermill": {
          "duration": 0.019985,
          "end_time": "2022-11-09T10:28:02.710860",
          "exception": false,
          "start_time": "2022-11-09T10:28:02.690875",
          "status": "completed"
        },
        "tags": []
      },
      "source": [
        "- Yellowbrick: Yellowbrick is a suite of visualization and diagnostic tools that will enable quicker model selection. It’s a Python package that combines scikit-learn and matplotlib. Some of the more popular visualization tools include model selection, feature visualization, classification and regression visualization\n",
        "\n",
        "    [Yellowbrick](https://www.analyticsvidhya.com/blog/2018/05/yellowbrick-a-set-of-visualization-tools-to-accelerate-your-model-selection-process/)"
      ]
    },
    {
      "cell_type": "markdown",
      "id": "ad8280a7",
      "metadata": {
        "id": "ad8280a7",
        "papermill": {
          "duration": 0.019976,
          "end_time": "2022-11-09T10:28:02.751416",
          "exception": false,
          "start_time": "2022-11-09T10:28:02.731440",
          "status": "completed"
        },
        "tags": []
      },
      "source": [
        "### #Random Forest Classifier"
      ]
    },
    {
      "cell_type": "markdown",
      "id": "a2c085b8",
      "metadata": {
        "id": "a2c085b8",
        "papermill": {
          "duration": 0.020173,
          "end_time": "2022-11-09T10:28:02.792072",
          "exception": false,
          "start_time": "2022-11-09T10:28:02.771899",
          "status": "completed"
        },
        "tags": []
      },
      "source": [
        "#### Model Building"
      ]
    },
    {
      "cell_type": "code",
      "execution_count": null,
      "id": "3a0a0382",
      "metadata": {
        "execution": {
          "iopub.execute_input": "2022-11-09T10:28:02.834507Z",
          "iopub.status.busy": "2022-11-09T10:28:02.834077Z",
          "iopub.status.idle": "2022-11-09T10:28:02.841255Z",
          "shell.execute_reply": "2022-11-09T10:28:02.840102Z"
        },
        "id": "3a0a0382",
        "papermill": {
          "duration": 0.030966,
          "end_time": "2022-11-09T10:28:02.843499",
          "exception": false,
          "start_time": "2022-11-09T10:28:02.812533",
          "status": "completed"
        },
        "tags": []
      },
      "outputs": [],
      "source": [
        "X = df.drop(columns=\"left\")\n",
        "y = df['left']"
      ]
    },
    {
      "cell_type": "code",
      "execution_count": null,
      "id": "4e70b73e",
      "metadata": {
        "execution": {
          "iopub.execute_input": "2022-11-09T10:28:02.886496Z",
          "iopub.status.busy": "2022-11-09T10:28:02.885706Z",
          "iopub.status.idle": "2022-11-09T10:28:02.890609Z",
          "shell.execute_reply": "2022-11-09T10:28:02.889423Z"
        },
        "id": "4e70b73e",
        "papermill": {
          "duration": 0.028555,
          "end_time": "2022-11-09T10:28:02.892728",
          "exception": false,
          "start_time": "2022-11-09T10:28:02.864173",
          "status": "completed"
        },
        "tags": []
      },
      "outputs": [],
      "source": [
        "from sklearn.model_selection import train_test_split"
      ]
    },
    {
      "cell_type": "code",
      "execution_count": null,
      "id": "198d174a",
      "metadata": {
        "execution": {
          "iopub.execute_input": "2022-11-09T10:28:02.935693Z",
          "iopub.status.busy": "2022-11-09T10:28:02.934724Z",
          "iopub.status.idle": "2022-11-09T10:28:02.943449Z",
          "shell.execute_reply": "2022-11-09T10:28:02.942443Z"
        },
        "id": "198d174a",
        "papermill": {
          "duration": 0.032674,
          "end_time": "2022-11-09T10:28:02.945799",
          "exception": false,
          "start_time": "2022-11-09T10:28:02.913125",
          "status": "completed"
        },
        "tags": []
      },
      "outputs": [],
      "source": [
        "X_train, X_test, y_train, y_test = train_test_split(X, y, test_size=0.2, random_state=101)"
      ]
    },
    {
      "cell_type": "code",
      "execution_count": null,
      "id": "5c238baa",
      "metadata": {
        "execution": {
          "iopub.execute_input": "2022-11-09T10:28:02.988944Z",
          "iopub.status.busy": "2022-11-09T10:28:02.988189Z",
          "iopub.status.idle": "2022-11-09T10:28:03.004629Z",
          "shell.execute_reply": "2022-11-09T10:28:03.003479Z"
        },
        "id": "5c238baa",
        "outputId": "7cd1343c-9fb7-4ff0-bb99-b9652013503b",
        "papermill": {
          "duration": 0.040884,
          "end_time": "2022-11-09T10:28:03.007191",
          "exception": false,
          "start_time": "2022-11-09T10:28:02.966307",
          "status": "completed"
        },
        "tags": [],
        "colab": {
          "base_uri": "https://localhost:8080/"
        }
      },
      "outputs": [
        {
          "output_type": "execute_result",
          "data": {
            "text/plain": [
              "       satisfaction_level  last_evaluation  number_project  \\\n",
              "5362                0.420            0.470               4   \n",
              "1257                0.880            0.920               4   \n",
              "12387               0.100            0.970               6   \n",
              "4375                0.720            0.930               4   \n",
              "5452                0.500            0.730               4   \n",
              "...                   ...              ...             ...   \n",
              "5695                0.610            0.720               3   \n",
              "8006                0.560            0.550               3   \n",
              "1361                0.750            0.890               5   \n",
              "1547                0.090            0.830               6   \n",
              "13151               0.950            0.840               3   \n",
              "\n",
              "       average_montly_hours  time_spend_company  Work_accident  \\\n",
              "5362                    146                   3              1   \n",
              "1257                    233                   6              0   \n",
              "12387                   247                   4              0   \n",
              "4375                    174                   2              0   \n",
              "5452                    271                   2              0   \n",
              "...                     ...                 ...            ...   \n",
              "5695                    144                   2              0   \n",
              "8006                    245                   2              0   \n",
              "1361                    272                   5              0   \n",
              "1547                    250                   4              0   \n",
              "13151                   270                   3              1   \n",
              "\n",
              "       promotion_last_5years departments  salary  \n",
              "5362                       0       sales  medium  \n",
              "1257                       0   technical     low  \n",
              "12387                      0  management  medium  \n",
              "4375                       0       sales     low  \n",
              "5452                       0          hr     low  \n",
              "...                      ...         ...     ...  \n",
              "5695                       0     support     low  \n",
              "8006                       0          IT  medium  \n",
              "1361                       0          IT  medium  \n",
              "1547                       0       sales  medium  \n",
              "13151                      1       sales  medium  \n",
              "\n",
              "[11999 rows x 9 columns]"
            ],
            "text/html": [
              "\n",
              "  <div id=\"df-5a33044d-f70d-4f65-af8e-64a5295edcdd\">\n",
              "    <div class=\"colab-df-container\">\n",
              "      <div>\n",
              "<style scoped>\n",
              "    .dataframe tbody tr th:only-of-type {\n",
              "        vertical-align: middle;\n",
              "    }\n",
              "\n",
              "    .dataframe tbody tr th {\n",
              "        vertical-align: top;\n",
              "    }\n",
              "\n",
              "    .dataframe thead th {\n",
              "        text-align: right;\n",
              "    }\n",
              "</style>\n",
              "<table border=\"1\" class=\"dataframe\">\n",
              "  <thead>\n",
              "    <tr style=\"text-align: right;\">\n",
              "      <th></th>\n",
              "      <th>satisfaction_level</th>\n",
              "      <th>last_evaluation</th>\n",
              "      <th>number_project</th>\n",
              "      <th>average_montly_hours</th>\n",
              "      <th>time_spend_company</th>\n",
              "      <th>Work_accident</th>\n",
              "      <th>promotion_last_5years</th>\n",
              "      <th>departments</th>\n",
              "      <th>salary</th>\n",
              "    </tr>\n",
              "  </thead>\n",
              "  <tbody>\n",
              "    <tr>\n",
              "      <th>5362</th>\n",
              "      <td>0.420</td>\n",
              "      <td>0.470</td>\n",
              "      <td>4</td>\n",
              "      <td>146</td>\n",
              "      <td>3</td>\n",
              "      <td>1</td>\n",
              "      <td>0</td>\n",
              "      <td>sales</td>\n",
              "      <td>medium</td>\n",
              "    </tr>\n",
              "    <tr>\n",
              "      <th>1257</th>\n",
              "      <td>0.880</td>\n",
              "      <td>0.920</td>\n",
              "      <td>4</td>\n",
              "      <td>233</td>\n",
              "      <td>6</td>\n",
              "      <td>0</td>\n",
              "      <td>0</td>\n",
              "      <td>technical</td>\n",
              "      <td>low</td>\n",
              "    </tr>\n",
              "    <tr>\n",
              "      <th>12387</th>\n",
              "      <td>0.100</td>\n",
              "      <td>0.970</td>\n",
              "      <td>6</td>\n",
              "      <td>247</td>\n",
              "      <td>4</td>\n",
              "      <td>0</td>\n",
              "      <td>0</td>\n",
              "      <td>management</td>\n",
              "      <td>medium</td>\n",
              "    </tr>\n",
              "    <tr>\n",
              "      <th>4375</th>\n",
              "      <td>0.720</td>\n",
              "      <td>0.930</td>\n",
              "      <td>4</td>\n",
              "      <td>174</td>\n",
              "      <td>2</td>\n",
              "      <td>0</td>\n",
              "      <td>0</td>\n",
              "      <td>sales</td>\n",
              "      <td>low</td>\n",
              "    </tr>\n",
              "    <tr>\n",
              "      <th>5452</th>\n",
              "      <td>0.500</td>\n",
              "      <td>0.730</td>\n",
              "      <td>4</td>\n",
              "      <td>271</td>\n",
              "      <td>2</td>\n",
              "      <td>0</td>\n",
              "      <td>0</td>\n",
              "      <td>hr</td>\n",
              "      <td>low</td>\n",
              "    </tr>\n",
              "    <tr>\n",
              "      <th>...</th>\n",
              "      <td>...</td>\n",
              "      <td>...</td>\n",
              "      <td>...</td>\n",
              "      <td>...</td>\n",
              "      <td>...</td>\n",
              "      <td>...</td>\n",
              "      <td>...</td>\n",
              "      <td>...</td>\n",
              "      <td>...</td>\n",
              "    </tr>\n",
              "    <tr>\n",
              "      <th>5695</th>\n",
              "      <td>0.610</td>\n",
              "      <td>0.720</td>\n",
              "      <td>3</td>\n",
              "      <td>144</td>\n",
              "      <td>2</td>\n",
              "      <td>0</td>\n",
              "      <td>0</td>\n",
              "      <td>support</td>\n",
              "      <td>low</td>\n",
              "    </tr>\n",
              "    <tr>\n",
              "      <th>8006</th>\n",
              "      <td>0.560</td>\n",
              "      <td>0.550</td>\n",
              "      <td>3</td>\n",
              "      <td>245</td>\n",
              "      <td>2</td>\n",
              "      <td>0</td>\n",
              "      <td>0</td>\n",
              "      <td>IT</td>\n",
              "      <td>medium</td>\n",
              "    </tr>\n",
              "    <tr>\n",
              "      <th>1361</th>\n",
              "      <td>0.750</td>\n",
              "      <td>0.890</td>\n",
              "      <td>5</td>\n",
              "      <td>272</td>\n",
              "      <td>5</td>\n",
              "      <td>0</td>\n",
              "      <td>0</td>\n",
              "      <td>IT</td>\n",
              "      <td>medium</td>\n",
              "    </tr>\n",
              "    <tr>\n",
              "      <th>1547</th>\n",
              "      <td>0.090</td>\n",
              "      <td>0.830</td>\n",
              "      <td>6</td>\n",
              "      <td>250</td>\n",
              "      <td>4</td>\n",
              "      <td>0</td>\n",
              "      <td>0</td>\n",
              "      <td>sales</td>\n",
              "      <td>medium</td>\n",
              "    </tr>\n",
              "    <tr>\n",
              "      <th>13151</th>\n",
              "      <td>0.950</td>\n",
              "      <td>0.840</td>\n",
              "      <td>3</td>\n",
              "      <td>270</td>\n",
              "      <td>3</td>\n",
              "      <td>1</td>\n",
              "      <td>1</td>\n",
              "      <td>sales</td>\n",
              "      <td>medium</td>\n",
              "    </tr>\n",
              "  </tbody>\n",
              "</table>\n",
              "<p>11999 rows × 9 columns</p>\n",
              "</div>\n",
              "      <button class=\"colab-df-convert\" onclick=\"convertToInteractive('df-5a33044d-f70d-4f65-af8e-64a5295edcdd')\"\n",
              "              title=\"Convert this dataframe to an interactive table.\"\n",
              "              style=\"display:none;\">\n",
              "        \n",
              "  <svg xmlns=\"http://www.w3.org/2000/svg\" height=\"24px\"viewBox=\"0 0 24 24\"\n",
              "       width=\"24px\">\n",
              "    <path d=\"M0 0h24v24H0V0z\" fill=\"none\"/>\n",
              "    <path d=\"M18.56 5.44l.94 2.06.94-2.06 2.06-.94-2.06-.94-.94-2.06-.94 2.06-2.06.94zm-11 1L8.5 8.5l.94-2.06 2.06-.94-2.06-.94L8.5 2.5l-.94 2.06-2.06.94zm10 10l.94 2.06.94-2.06 2.06-.94-2.06-.94-.94-2.06-.94 2.06-2.06.94z\"/><path d=\"M17.41 7.96l-1.37-1.37c-.4-.4-.92-.59-1.43-.59-.52 0-1.04.2-1.43.59L10.3 9.45l-7.72 7.72c-.78.78-.78 2.05 0 2.83L4 21.41c.39.39.9.59 1.41.59.51 0 1.02-.2 1.41-.59l7.78-7.78 2.81-2.81c.8-.78.8-2.07 0-2.86zM5.41 20L4 18.59l7.72-7.72 1.47 1.35L5.41 20z\"/>\n",
              "  </svg>\n",
              "      </button>\n",
              "      \n",
              "  <style>\n",
              "    .colab-df-container {\n",
              "      display:flex;\n",
              "      flex-wrap:wrap;\n",
              "      gap: 12px;\n",
              "    }\n",
              "\n",
              "    .colab-df-convert {\n",
              "      background-color: #E8F0FE;\n",
              "      border: none;\n",
              "      border-radius: 50%;\n",
              "      cursor: pointer;\n",
              "      display: none;\n",
              "      fill: #1967D2;\n",
              "      height: 32px;\n",
              "      padding: 0 0 0 0;\n",
              "      width: 32px;\n",
              "    }\n",
              "\n",
              "    .colab-df-convert:hover {\n",
              "      background-color: #E2EBFA;\n",
              "      box-shadow: 0px 1px 2px rgba(60, 64, 67, 0.3), 0px 1px 3px 1px rgba(60, 64, 67, 0.15);\n",
              "      fill: #174EA6;\n",
              "    }\n",
              "\n",
              "    [theme=dark] .colab-df-convert {\n",
              "      background-color: #3B4455;\n",
              "      fill: #D2E3FC;\n",
              "    }\n",
              "\n",
              "    [theme=dark] .colab-df-convert:hover {\n",
              "      background-color: #434B5C;\n",
              "      box-shadow: 0px 1px 3px 1px rgba(0, 0, 0, 0.15);\n",
              "      filter: drop-shadow(0px 1px 2px rgba(0, 0, 0, 0.3));\n",
              "      fill: #FFFFFF;\n",
              "    }\n",
              "  </style>\n",
              "\n",
              "      <script>\n",
              "        const buttonEl =\n",
              "          document.querySelector('#df-5a33044d-f70d-4f65-af8e-64a5295edcdd button.colab-df-convert');\n",
              "        buttonEl.style.display =\n",
              "          google.colab.kernel.accessAllowed ? 'block' : 'none';\n",
              "\n",
              "        async function convertToInteractive(key) {\n",
              "          const element = document.querySelector('#df-5a33044d-f70d-4f65-af8e-64a5295edcdd');\n",
              "          const dataTable =\n",
              "            await google.colab.kernel.invokeFunction('convertToInteractive',\n",
              "                                                     [key], {});\n",
              "          if (!dataTable) return;\n",
              "\n",
              "          const docLinkHtml = 'Like what you see? Visit the ' +\n",
              "            '<a target=\"_blank\" href=https://colab.research.google.com/notebooks/data_table.ipynb>data table notebook</a>'\n",
              "            + ' to learn more about interactive tables.';\n",
              "          element.innerHTML = '';\n",
              "          dataTable['output_type'] = 'display_data';\n",
              "          await google.colab.output.renderOutput(dataTable, element);\n",
              "          const docLink = document.createElement('div');\n",
              "          docLink.innerHTML = docLinkHtml;\n",
              "          element.appendChild(docLink);\n",
              "        }\n",
              "      </script>\n",
              "    </div>\n",
              "  </div>\n",
              "  "
            ]
          },
          "metadata": {},
          "execution_count": 55
        }
      ],
      "source": [
        "X_train"
      ]
    },
    {
      "cell_type": "code",
      "execution_count": null,
      "id": "93919d64",
      "metadata": {
        "execution": {
          "iopub.execute_input": "2022-11-09T10:28:03.050903Z",
          "iopub.status.busy": "2022-11-09T10:28:03.050469Z",
          "iopub.status.idle": "2022-11-09T10:28:03.059786Z",
          "shell.execute_reply": "2022-11-09T10:28:03.058586Z"
        },
        "id": "93919d64",
        "outputId": "42239628-bc27-4d69-c79e-a688438d6bc3",
        "papermill": {
          "duration": 0.034367,
          "end_time": "2022-11-09T10:28:03.062542",
          "exception": false,
          "start_time": "2022-11-09T10:28:03.028175",
          "status": "completed"
        },
        "tags": [],
        "colab": {
          "base_uri": "https://localhost:8080/"
        }
      },
      "outputs": [
        {
          "output_type": "execute_result",
          "data": {
            "text/plain": [
              "Index(['Work_accident', 'promotion_last_5years', 'departments', 'salary'], dtype='object')"
            ]
          },
          "metadata": {},
          "execution_count": 56
        }
      ],
      "source": [
        "cat = X_train[['Work_accident', 'promotion_last_5years', 'departments', \"salary\"]].columns\n",
        "cat"
      ]
    },
    {
      "cell_type": "code",
      "execution_count": null,
      "id": "b87f2123",
      "metadata": {
        "execution": {
          "iopub.execute_input": "2022-11-09T10:28:03.108372Z",
          "iopub.status.busy": "2022-11-09T10:28:03.107559Z",
          "iopub.status.idle": "2022-11-09T10:28:03.113927Z",
          "shell.execute_reply": "2022-11-09T10:28:03.112783Z"
        },
        "id": "b87f2123",
        "papermill": {
          "duration": 0.032028,
          "end_time": "2022-11-09T10:28:03.116490",
          "exception": false,
          "start_time": "2022-11-09T10:28:03.084462",
          "status": "completed"
        },
        "tags": []
      },
      "outputs": [],
      "source": [
        "from sklearn.compose import make_column_transformer\n",
        "from sklearn.preprocessing import OrdinalEncoder\n",
        "\n",
        "\n",
        "ord_enc = OrdinalEncoder(handle_unknown='use_encoded_value', unknown_value=-1)\n",
        "\n",
        "column_trans = make_column_transformer((ord_enc, cat), remainder='passthrough')"
      ]
    },
    {
      "cell_type": "code",
      "execution_count": null,
      "id": "939b57b6",
      "metadata": {
        "execution": {
          "iopub.execute_input": "2022-11-09T10:28:03.161500Z",
          "iopub.status.busy": "2022-11-09T10:28:03.161051Z",
          "iopub.status.idle": "2022-11-09T10:28:04.608330Z",
          "shell.execute_reply": "2022-11-09T10:28:04.606988Z"
        },
        "id": "939b57b6",
        "outputId": "1d97f205-ce0a-4e0b-9d5c-910c391806a9",
        "papermill": {
          "duration": 1.472747,
          "end_time": "2022-11-09T10:28:04.610819",
          "exception": false,
          "start_time": "2022-11-09T10:28:03.138072",
          "status": "completed"
        },
        "tags": [],
        "colab": {
          "base_uri": "https://localhost:8080/"
        }
      },
      "outputs": [
        {
          "output_type": "execute_result",
          "data": {
            "text/plain": [
              "Pipeline(steps=[('OrdinalEncoder',\n",
              "                 ColumnTransformer(remainder='passthrough',\n",
              "                                   transformers=[('ordinalencoder',\n",
              "                                                  OrdinalEncoder(handle_unknown='use_encoded_value',\n",
              "                                                                 unknown_value=-1),\n",
              "                                                  Index(['Work_accident', 'promotion_last_5years', 'departments', 'salary'], dtype='object'))])),\n",
              "                ('RF_model', RandomForestClassifier(random_state=101))])"
            ]
          },
          "metadata": {},
          "execution_count": 58
        }
      ],
      "source": [
        "from sklearn.pipeline import Pipeline\n",
        "from sklearn.ensemble import RandomForestClassifier\n",
        "\n",
        "\n",
        "operations = [(\"OrdinalEncoder\", column_trans), (\"RF_model\", RandomForestClassifier(random_state=101))]\n",
        "\n",
        "pipe_RF = Pipeline(steps=operations)\n",
        "\n",
        "pipe_RF.fit(X_train, y_train)"
      ]
    },
    {
      "cell_type": "markdown",
      "id": "6e354923",
      "metadata": {
        "id": "6e354923",
        "papermill": {
          "duration": 0.021258,
          "end_time": "2022-11-09T10:28:04.654071",
          "exception": false,
          "start_time": "2022-11-09T10:28:04.632813",
          "status": "completed"
        },
        "tags": []
      },
      "source": [
        "#### Evaluating Model Performance and Tuning"
      ]
    },
    {
      "cell_type": "code",
      "execution_count": null,
      "id": "c4677482",
      "metadata": {
        "execution": {
          "iopub.execute_input": "2022-11-09T10:28:04.699038Z",
          "iopub.status.busy": "2022-11-09T10:28:04.698299Z",
          "iopub.status.idle": "2022-11-09T10:28:04.705688Z",
          "shell.execute_reply": "2022-11-09T10:28:04.704544Z"
        },
        "id": "c4677482",
        "papermill": {
          "duration": 0.032503,
          "end_time": "2022-11-09T10:28:04.708059",
          "exception": false,
          "start_time": "2022-11-09T10:28:04.675556",
          "status": "completed"
        },
        "tags": []
      },
      "outputs": [],
      "source": [
        "from sklearn.metrics import confusion_matrix, classification_report, accuracy_score, recall_score, precision_score,f1_score\n",
        "\n",
        "def eval_metric(model, X_train, y_train, X_test, y_test):\n",
        "    y_train_pred = model.predict(X_train)\n",
        "    y_pred = model.predict(X_test)\n",
        "    \n",
        "    print(\"Test_Set\")\n",
        "    print(confusion_matrix(y_test, y_pred))\n",
        "    print(classification_report(y_test, y_pred))\n",
        "    print()\n",
        "    print(\"Train_Set\")\n",
        "    print(confusion_matrix(y_train, y_train_pred))\n",
        "    print(classification_report(y_train, y_train_pred))"
      ]
    },
    {
      "cell_type": "code",
      "execution_count": null,
      "id": "7968ca14",
      "metadata": {
        "execution": {
          "iopub.execute_input": "2022-11-09T10:28:04.753062Z",
          "iopub.status.busy": "2022-11-09T10:28:04.751905Z",
          "iopub.status.idle": "2022-11-09T10:28:05.027434Z",
          "shell.execute_reply": "2022-11-09T10:28:05.026181Z"
        },
        "id": "7968ca14",
        "outputId": "634d663b-fff9-4f58-edaf-29f76145f18a",
        "papermill": {
          "duration": 0.301211,
          "end_time": "2022-11-09T10:28:05.030614",
          "exception": false,
          "start_time": "2022-11-09T10:28:04.729403",
          "status": "completed"
        },
        "tags": [],
        "colab": {
          "base_uri": "https://localhost:8080/"
        }
      },
      "outputs": [
        {
          "output_type": "stream",
          "name": "stdout",
          "text": [
            "Test_Set\n",
            "[[2261    1]\n",
            " [  16  722]]\n",
            "              precision    recall  f1-score   support\n",
            "\n",
            "           0       0.99      1.00      1.00      2262\n",
            "           1       1.00      0.98      0.99       738\n",
            "\n",
            "    accuracy                           0.99      3000\n",
            "   macro avg       1.00      0.99      0.99      3000\n",
            "weighted avg       0.99      0.99      0.99      3000\n",
            "\n",
            "\n",
            "Train_Set\n",
            "[[9166    0]\n",
            " [   0 2833]]\n",
            "              precision    recall  f1-score   support\n",
            "\n",
            "           0       1.00      1.00      1.00      9166\n",
            "           1       1.00      1.00      1.00      2833\n",
            "\n",
            "    accuracy                           1.00     11999\n",
            "   macro avg       1.00      1.00      1.00     11999\n",
            "weighted avg       1.00      1.00      1.00     11999\n",
            "\n"
          ]
        }
      ],
      "source": [
        "eval_metric(pipe_RF, X_train, y_train, X_test, y_test)"
      ]
    },
    {
      "cell_type": "code",
      "execution_count": null,
      "id": "abd1447e",
      "metadata": {
        "execution": {
          "iopub.execute_input": "2022-11-09T10:28:05.077588Z",
          "iopub.status.busy": "2022-11-09T10:28:05.076639Z",
          "iopub.status.idle": "2022-11-09T10:28:05.081737Z",
          "shell.execute_reply": "2022-11-09T10:28:05.080563Z"
        },
        "id": "abd1447e",
        "papermill": {
          "duration": 0.03179,
          "end_time": "2022-11-09T10:28:05.084083",
          "exception": false,
          "start_time": "2022-11-09T10:28:05.052293",
          "status": "completed"
        },
        "tags": []
      },
      "outputs": [],
      "source": [
        "from sklearn.metrics import make_scorer\n",
        "from sklearn.model_selection import cross_validate, cross_val_score\n",
        "from sklearn.model_selection import GridSearchCV"
      ]
    },
    {
      "cell_type": "code",
      "execution_count": null,
      "id": "6e689867",
      "metadata": {
        "execution": {
          "iopub.execute_input": "2022-11-09T10:28:05.129629Z",
          "iopub.status.busy": "2022-11-09T10:28:05.128872Z",
          "iopub.status.idle": "2022-11-09T10:28:07.248533Z",
          "shell.execute_reply": "2022-11-09T10:28:07.247343Z"
        },
        "id": "6e689867",
        "outputId": "d4eb9cc4-c658-4fcc-a319-71e50ce8b2cc",
        "papermill": {
          "duration": 2.145486,
          "end_time": "2022-11-09T10:28:07.250961",
          "exception": false,
          "start_time": "2022-11-09T10:28:05.105475",
          "status": "completed"
        },
        "tags": [],
        "colab": {
          "base_uri": "https://localhost:8080/"
        }
      },
      "outputs": [
        {
          "output_type": "execute_result",
          "data": {
            "text/plain": [
              "Pipeline(steps=[('OrdinalEncoder',\n",
              "                 ColumnTransformer(remainder='passthrough',\n",
              "                                   transformers=[('ordinalencoder',\n",
              "                                                  OrdinalEncoder(handle_unknown='use_encoded_value',\n",
              "                                                                 unknown_value=-1),\n",
              "                                                  Index(['Work_accident', 'promotion_last_5years', 'departments', 'salary'], dtype='object'))])),\n",
              "                ('RF_model',\n",
              "                 RandomForestClassifier(class_weight='balanced', max_depth=10,\n",
              "                                        n_estimators=200, random_state=101))])"
            ]
          },
          "metadata": {},
          "execution_count": 62
        }
      ],
      "source": [
        "model_RF = RandomForestClassifier(max_depth=10, n_estimators=200, class_weight=\"balanced\",random_state=101)\n",
        "operations = [(\"OrdinalEncoder\", column_trans), (\"RF_model\", model_RF)]\n",
        "\n",
        "pipe_RF = Pipeline(steps=operations)\n",
        "\n",
        "pipe_RF.fit(X_train, y_train)"
      ]
    },
    {
      "cell_type": "code",
      "execution_count": null,
      "id": "fc10b06c",
      "metadata": {
        "execution": {
          "iopub.execute_input": "2022-11-09T10:28:07.297763Z",
          "iopub.status.busy": "2022-11-09T10:28:07.297028Z",
          "iopub.status.idle": "2022-11-09T10:28:07.718474Z",
          "shell.execute_reply": "2022-11-09T10:28:07.716579Z"
        },
        "id": "fc10b06c",
        "outputId": "47b539ba-0f3d-446a-84eb-8311c53d8493",
        "papermill": {
          "duration": 0.447954,
          "end_time": "2022-11-09T10:28:07.721484",
          "exception": false,
          "start_time": "2022-11-09T10:28:07.273530",
          "status": "completed"
        },
        "tags": [],
        "colab": {
          "base_uri": "https://localhost:8080/"
        }
      },
      "outputs": [
        {
          "output_type": "stream",
          "name": "stdout",
          "text": [
            "Test_Set\n",
            "[[2259    3]\n",
            " [  40  698]]\n",
            "              precision    recall  f1-score   support\n",
            "\n",
            "           0       0.98      1.00      0.99      2262\n",
            "           1       1.00      0.95      0.97       738\n",
            "\n",
            "    accuracy                           0.99      3000\n",
            "   macro avg       0.99      0.97      0.98      3000\n",
            "weighted avg       0.99      0.99      0.99      3000\n",
            "\n",
            "\n",
            "Train_Set\n",
            "[[9145   21]\n",
            " [ 114 2719]]\n",
            "              precision    recall  f1-score   support\n",
            "\n",
            "           0       0.99      1.00      0.99      9166\n",
            "           1       0.99      0.96      0.98      2833\n",
            "\n",
            "    accuracy                           0.99     11999\n",
            "   macro avg       0.99      0.98      0.98     11999\n",
            "weighted avg       0.99      0.99      0.99     11999\n",
            "\n"
          ]
        }
      ],
      "source": [
        "eval_metric(pipe_RF, X_train, y_train, X_test, y_test)"
      ]
    },
    {
      "cell_type": "code",
      "execution_count": null,
      "id": "0171ecbb",
      "metadata": {
        "execution": {
          "iopub.execute_input": "2022-11-09T10:28:07.767581Z",
          "iopub.status.busy": "2022-11-09T10:28:07.767133Z",
          "iopub.status.idle": "2022-11-09T10:28:27.715118Z",
          "shell.execute_reply": "2022-11-09T10:28:27.713940Z"
        },
        "id": "0171ecbb",
        "outputId": "d73f6a6d-70ba-4c40-cffd-ca8ca6d5b4dd",
        "papermill": {
          "duration": 19.973894,
          "end_time": "2022-11-09T10:28:27.717947",
          "exception": false,
          "start_time": "2022-11-09T10:28:07.744053",
          "status": "completed"
        },
        "tags": [],
        "colab": {
          "base_uri": "https://localhost:8080/",
          "height": 363
        }
      },
      "outputs": [
        {
          "output_type": "execute_result",
          "data": {
            "text/plain": [
              "    fit_time  score_time  test_accuracy  test_precision  test_recall  test_f1\n",
              "1      1.690       0.060          0.986           0.989        0.951    0.969\n",
              "2      1.683       0.061          0.986           0.982        0.958    0.970\n",
              "3      1.673       0.057          0.985           0.989        0.947    0.968\n",
              "4      1.658       0.068          0.978           0.996        0.908    0.950\n",
              "5      1.652       0.056          0.979           0.989        0.922    0.954\n",
              "6      1.634       0.055          0.983           0.992        0.933    0.962\n",
              "7      1.623       0.056          0.979           0.992        0.919    0.954\n",
              "8      1.641       0.056          0.988           1.000        0.947    0.973\n",
              "9      2.162       0.173          0.982           0.985        0.937    0.960\n",
              "10     2.331       0.056          0.988           0.989        0.961    0.975"
            ],
            "text/html": [
              "\n",
              "  <div id=\"df-bcf5121e-7957-442f-b1eb-c31a71d56a84\">\n",
              "    <div class=\"colab-df-container\">\n",
              "      <div>\n",
              "<style scoped>\n",
              "    .dataframe tbody tr th:only-of-type {\n",
              "        vertical-align: middle;\n",
              "    }\n",
              "\n",
              "    .dataframe tbody tr th {\n",
              "        vertical-align: top;\n",
              "    }\n",
              "\n",
              "    .dataframe thead th {\n",
              "        text-align: right;\n",
              "    }\n",
              "</style>\n",
              "<table border=\"1\" class=\"dataframe\">\n",
              "  <thead>\n",
              "    <tr style=\"text-align: right;\">\n",
              "      <th></th>\n",
              "      <th>fit_time</th>\n",
              "      <th>score_time</th>\n",
              "      <th>test_accuracy</th>\n",
              "      <th>test_precision</th>\n",
              "      <th>test_recall</th>\n",
              "      <th>test_f1</th>\n",
              "    </tr>\n",
              "  </thead>\n",
              "  <tbody>\n",
              "    <tr>\n",
              "      <th>1</th>\n",
              "      <td>1.690</td>\n",
              "      <td>0.060</td>\n",
              "      <td>0.986</td>\n",
              "      <td>0.989</td>\n",
              "      <td>0.951</td>\n",
              "      <td>0.969</td>\n",
              "    </tr>\n",
              "    <tr>\n",
              "      <th>2</th>\n",
              "      <td>1.683</td>\n",
              "      <td>0.061</td>\n",
              "      <td>0.986</td>\n",
              "      <td>0.982</td>\n",
              "      <td>0.958</td>\n",
              "      <td>0.970</td>\n",
              "    </tr>\n",
              "    <tr>\n",
              "      <th>3</th>\n",
              "      <td>1.673</td>\n",
              "      <td>0.057</td>\n",
              "      <td>0.985</td>\n",
              "      <td>0.989</td>\n",
              "      <td>0.947</td>\n",
              "      <td>0.968</td>\n",
              "    </tr>\n",
              "    <tr>\n",
              "      <th>4</th>\n",
              "      <td>1.658</td>\n",
              "      <td>0.068</td>\n",
              "      <td>0.978</td>\n",
              "      <td>0.996</td>\n",
              "      <td>0.908</td>\n",
              "      <td>0.950</td>\n",
              "    </tr>\n",
              "    <tr>\n",
              "      <th>5</th>\n",
              "      <td>1.652</td>\n",
              "      <td>0.056</td>\n",
              "      <td>0.979</td>\n",
              "      <td>0.989</td>\n",
              "      <td>0.922</td>\n",
              "      <td>0.954</td>\n",
              "    </tr>\n",
              "    <tr>\n",
              "      <th>6</th>\n",
              "      <td>1.634</td>\n",
              "      <td>0.055</td>\n",
              "      <td>0.983</td>\n",
              "      <td>0.992</td>\n",
              "      <td>0.933</td>\n",
              "      <td>0.962</td>\n",
              "    </tr>\n",
              "    <tr>\n",
              "      <th>7</th>\n",
              "      <td>1.623</td>\n",
              "      <td>0.056</td>\n",
              "      <td>0.979</td>\n",
              "      <td>0.992</td>\n",
              "      <td>0.919</td>\n",
              "      <td>0.954</td>\n",
              "    </tr>\n",
              "    <tr>\n",
              "      <th>8</th>\n",
              "      <td>1.641</td>\n",
              "      <td>0.056</td>\n",
              "      <td>0.988</td>\n",
              "      <td>1.000</td>\n",
              "      <td>0.947</td>\n",
              "      <td>0.973</td>\n",
              "    </tr>\n",
              "    <tr>\n",
              "      <th>9</th>\n",
              "      <td>2.162</td>\n",
              "      <td>0.173</td>\n",
              "      <td>0.982</td>\n",
              "      <td>0.985</td>\n",
              "      <td>0.937</td>\n",
              "      <td>0.960</td>\n",
              "    </tr>\n",
              "    <tr>\n",
              "      <th>10</th>\n",
              "      <td>2.331</td>\n",
              "      <td>0.056</td>\n",
              "      <td>0.988</td>\n",
              "      <td>0.989</td>\n",
              "      <td>0.961</td>\n",
              "      <td>0.975</td>\n",
              "    </tr>\n",
              "  </tbody>\n",
              "</table>\n",
              "</div>\n",
              "      <button class=\"colab-df-convert\" onclick=\"convertToInteractive('df-bcf5121e-7957-442f-b1eb-c31a71d56a84')\"\n",
              "              title=\"Convert this dataframe to an interactive table.\"\n",
              "              style=\"display:none;\">\n",
              "        \n",
              "  <svg xmlns=\"http://www.w3.org/2000/svg\" height=\"24px\"viewBox=\"0 0 24 24\"\n",
              "       width=\"24px\">\n",
              "    <path d=\"M0 0h24v24H0V0z\" fill=\"none\"/>\n",
              "    <path d=\"M18.56 5.44l.94 2.06.94-2.06 2.06-.94-2.06-.94-.94-2.06-.94 2.06-2.06.94zm-11 1L8.5 8.5l.94-2.06 2.06-.94-2.06-.94L8.5 2.5l-.94 2.06-2.06.94zm10 10l.94 2.06.94-2.06 2.06-.94-2.06-.94-.94-2.06-.94 2.06-2.06.94z\"/><path d=\"M17.41 7.96l-1.37-1.37c-.4-.4-.92-.59-1.43-.59-.52 0-1.04.2-1.43.59L10.3 9.45l-7.72 7.72c-.78.78-.78 2.05 0 2.83L4 21.41c.39.39.9.59 1.41.59.51 0 1.02-.2 1.41-.59l7.78-7.78 2.81-2.81c.8-.78.8-2.07 0-2.86zM5.41 20L4 18.59l7.72-7.72 1.47 1.35L5.41 20z\"/>\n",
              "  </svg>\n",
              "      </button>\n",
              "      \n",
              "  <style>\n",
              "    .colab-df-container {\n",
              "      display:flex;\n",
              "      flex-wrap:wrap;\n",
              "      gap: 12px;\n",
              "    }\n",
              "\n",
              "    .colab-df-convert {\n",
              "      background-color: #E8F0FE;\n",
              "      border: none;\n",
              "      border-radius: 50%;\n",
              "      cursor: pointer;\n",
              "      display: none;\n",
              "      fill: #1967D2;\n",
              "      height: 32px;\n",
              "      padding: 0 0 0 0;\n",
              "      width: 32px;\n",
              "    }\n",
              "\n",
              "    .colab-df-convert:hover {\n",
              "      background-color: #E2EBFA;\n",
              "      box-shadow: 0px 1px 2px rgba(60, 64, 67, 0.3), 0px 1px 3px 1px rgba(60, 64, 67, 0.15);\n",
              "      fill: #174EA6;\n",
              "    }\n",
              "\n",
              "    [theme=dark] .colab-df-convert {\n",
              "      background-color: #3B4455;\n",
              "      fill: #D2E3FC;\n",
              "    }\n",
              "\n",
              "    [theme=dark] .colab-df-convert:hover {\n",
              "      background-color: #434B5C;\n",
              "      box-shadow: 0px 1px 3px 1px rgba(0, 0, 0, 0.15);\n",
              "      filter: drop-shadow(0px 1px 2px rgba(0, 0, 0, 0.3));\n",
              "      fill: #FFFFFF;\n",
              "    }\n",
              "  </style>\n",
              "\n",
              "      <script>\n",
              "        const buttonEl =\n",
              "          document.querySelector('#df-bcf5121e-7957-442f-b1eb-c31a71d56a84 button.colab-df-convert');\n",
              "        buttonEl.style.display =\n",
              "          google.colab.kernel.accessAllowed ? 'block' : 'none';\n",
              "\n",
              "        async function convertToInteractive(key) {\n",
              "          const element = document.querySelector('#df-bcf5121e-7957-442f-b1eb-c31a71d56a84');\n",
              "          const dataTable =\n",
              "            await google.colab.kernel.invokeFunction('convertToInteractive',\n",
              "                                                     [key], {});\n",
              "          if (!dataTable) return;\n",
              "\n",
              "          const docLinkHtml = 'Like what you see? Visit the ' +\n",
              "            '<a target=\"_blank\" href=https://colab.research.google.com/notebooks/data_table.ipynb>data table notebook</a>'\n",
              "            + ' to learn more about interactive tables.';\n",
              "          element.innerHTML = '';\n",
              "          dataTable['output_type'] = 'display_data';\n",
              "          await google.colab.output.renderOutput(dataTable, element);\n",
              "          const docLink = document.createElement('div');\n",
              "          docLink.innerHTML = docLinkHtml;\n",
              "          element.appendChild(docLink);\n",
              "        }\n",
              "      </script>\n",
              "    </div>\n",
              "  </div>\n",
              "  "
            ]
          },
          "metadata": {},
          "execution_count": 64
        }
      ],
      "source": [
        "model_RF = RandomForestClassifier(max_depth=10, n_estimators=200, class_weight=\"balanced\",random_state=101)\n",
        "\n",
        "operations = [(\"OrdinalEncoder\", column_trans), (\"RF_model\", model_RF)]\n",
        "\n",
        "model = Pipeline(steps=operations)\n",
        "\n",
        "scores = cross_validate(model, X_train, y_train, scoring = [\"accuracy\", \"precision\", \"recall\", \"f1\"], \n",
        "                        cv = 10)\n",
        "df_scores = pd.DataFrame(scores, index = range(1, 11))\n",
        "df_scores"
      ]
    },
    {
      "cell_type": "code",
      "execution_count": null,
      "id": "3dea2ac0",
      "metadata": {
        "execution": {
          "iopub.execute_input": "2022-11-09T10:28:27.764280Z",
          "iopub.status.busy": "2022-11-09T10:28:27.763400Z",
          "iopub.status.idle": "2022-11-09T10:28:27.775590Z",
          "shell.execute_reply": "2022-11-09T10:28:27.774722Z"
        },
        "id": "3dea2ac0",
        "outputId": "4925b72c-a0cc-4f79-a1b9-2f05381e7da6",
        "papermill": {
          "duration": 0.037547,
          "end_time": "2022-11-09T10:28:27.777704",
          "exception": false,
          "start_time": "2022-11-09T10:28:27.740157",
          "status": "completed"
        },
        "tags": [],
        "colab": {
          "base_uri": "https://localhost:8080/",
          "height": 81
        }
      },
      "outputs": [
        {
          "output_type": "execute_result",
          "data": {
            "text/plain": [
              "    test_accuracy  test_precision  test_recall  test_f1\n",
              "RF          0.983           0.990        0.938    0.963"
            ],
            "text/html": [
              "\n",
              "  <div id=\"df-241072b1-2fc9-43db-b34a-02f8e2f961b8\">\n",
              "    <div class=\"colab-df-container\">\n",
              "      <div>\n",
              "<style scoped>\n",
              "    .dataframe tbody tr th:only-of-type {\n",
              "        vertical-align: middle;\n",
              "    }\n",
              "\n",
              "    .dataframe tbody tr th {\n",
              "        vertical-align: top;\n",
              "    }\n",
              "\n",
              "    .dataframe thead th {\n",
              "        text-align: right;\n",
              "    }\n",
              "</style>\n",
              "<table border=\"1\" class=\"dataframe\">\n",
              "  <thead>\n",
              "    <tr style=\"text-align: right;\">\n",
              "      <th></th>\n",
              "      <th>test_accuracy</th>\n",
              "      <th>test_precision</th>\n",
              "      <th>test_recall</th>\n",
              "      <th>test_f1</th>\n",
              "    </tr>\n",
              "  </thead>\n",
              "  <tbody>\n",
              "    <tr>\n",
              "      <th>RF</th>\n",
              "      <td>0.983</td>\n",
              "      <td>0.990</td>\n",
              "      <td>0.938</td>\n",
              "      <td>0.963</td>\n",
              "    </tr>\n",
              "  </tbody>\n",
              "</table>\n",
              "</div>\n",
              "      <button class=\"colab-df-convert\" onclick=\"convertToInteractive('df-241072b1-2fc9-43db-b34a-02f8e2f961b8')\"\n",
              "              title=\"Convert this dataframe to an interactive table.\"\n",
              "              style=\"display:none;\">\n",
              "        \n",
              "  <svg xmlns=\"http://www.w3.org/2000/svg\" height=\"24px\"viewBox=\"0 0 24 24\"\n",
              "       width=\"24px\">\n",
              "    <path d=\"M0 0h24v24H0V0z\" fill=\"none\"/>\n",
              "    <path d=\"M18.56 5.44l.94 2.06.94-2.06 2.06-.94-2.06-.94-.94-2.06-.94 2.06-2.06.94zm-11 1L8.5 8.5l.94-2.06 2.06-.94-2.06-.94L8.5 2.5l-.94 2.06-2.06.94zm10 10l.94 2.06.94-2.06 2.06-.94-2.06-.94-.94-2.06-.94 2.06-2.06.94z\"/><path d=\"M17.41 7.96l-1.37-1.37c-.4-.4-.92-.59-1.43-.59-.52 0-1.04.2-1.43.59L10.3 9.45l-7.72 7.72c-.78.78-.78 2.05 0 2.83L4 21.41c.39.39.9.59 1.41.59.51 0 1.02-.2 1.41-.59l7.78-7.78 2.81-2.81c.8-.78.8-2.07 0-2.86zM5.41 20L4 18.59l7.72-7.72 1.47 1.35L5.41 20z\"/>\n",
              "  </svg>\n",
              "      </button>\n",
              "      \n",
              "  <style>\n",
              "    .colab-df-container {\n",
              "      display:flex;\n",
              "      flex-wrap:wrap;\n",
              "      gap: 12px;\n",
              "    }\n",
              "\n",
              "    .colab-df-convert {\n",
              "      background-color: #E8F0FE;\n",
              "      border: none;\n",
              "      border-radius: 50%;\n",
              "      cursor: pointer;\n",
              "      display: none;\n",
              "      fill: #1967D2;\n",
              "      height: 32px;\n",
              "      padding: 0 0 0 0;\n",
              "      width: 32px;\n",
              "    }\n",
              "\n",
              "    .colab-df-convert:hover {\n",
              "      background-color: #E2EBFA;\n",
              "      box-shadow: 0px 1px 2px rgba(60, 64, 67, 0.3), 0px 1px 3px 1px rgba(60, 64, 67, 0.15);\n",
              "      fill: #174EA6;\n",
              "    }\n",
              "\n",
              "    [theme=dark] .colab-df-convert {\n",
              "      background-color: #3B4455;\n",
              "      fill: #D2E3FC;\n",
              "    }\n",
              "\n",
              "    [theme=dark] .colab-df-convert:hover {\n",
              "      background-color: #434B5C;\n",
              "      box-shadow: 0px 1px 3px 1px rgba(0, 0, 0, 0.15);\n",
              "      filter: drop-shadow(0px 1px 2px rgba(0, 0, 0, 0.3));\n",
              "      fill: #FFFFFF;\n",
              "    }\n",
              "  </style>\n",
              "\n",
              "      <script>\n",
              "        const buttonEl =\n",
              "          document.querySelector('#df-241072b1-2fc9-43db-b34a-02f8e2f961b8 button.colab-df-convert');\n",
              "        buttonEl.style.display =\n",
              "          google.colab.kernel.accessAllowed ? 'block' : 'none';\n",
              "\n",
              "        async function convertToInteractive(key) {\n",
              "          const element = document.querySelector('#df-241072b1-2fc9-43db-b34a-02f8e2f961b8');\n",
              "          const dataTable =\n",
              "            await google.colab.kernel.invokeFunction('convertToInteractive',\n",
              "                                                     [key], {});\n",
              "          if (!dataTable) return;\n",
              "\n",
              "          const docLinkHtml = 'Like what you see? Visit the ' +\n",
              "            '<a target=\"_blank\" href=https://colab.research.google.com/notebooks/data_table.ipynb>data table notebook</a>'\n",
              "            + ' to learn more about interactive tables.';\n",
              "          element.innerHTML = '';\n",
              "          dataTable['output_type'] = 'display_data';\n",
              "          await google.colab.output.renderOutput(dataTable, element);\n",
              "          const docLink = document.createElement('div');\n",
              "          docLink.innerHTML = docLinkHtml;\n",
              "          element.appendChild(docLink);\n",
              "        }\n",
              "      </script>\n",
              "    </div>\n",
              "  </div>\n",
              "  "
            ]
          },
          "metadata": {},
          "execution_count": 65
        }
      ],
      "source": [
        "RF_results = pd.DataFrame(df_scores.mean()[2:], columns=[\"RF\"])\n",
        "RF_results.T"
      ]
    },
    {
      "cell_type": "code",
      "execution_count": null,
      "id": "a7845008",
      "metadata": {
        "execution": {
          "iopub.execute_input": "2022-11-09T10:28:27.824113Z",
          "iopub.status.busy": "2022-11-09T10:28:27.823001Z",
          "iopub.status.idle": "2022-11-09T10:28:28.380446Z",
          "shell.execute_reply": "2022-11-09T10:28:28.379533Z"
        },
        "id": "a7845008",
        "outputId": "2371cbbf-cb4e-4e06-e103-37f6fa0f12bd",
        "papermill": {
          "duration": 0.583023,
          "end_time": "2022-11-09T10:28:28.382821",
          "exception": false,
          "start_time": "2022-11-09T10:28:27.799798",
          "status": "completed"
        },
        "tags": [],
        "colab": {
          "base_uri": "https://localhost:8080/",
          "height": 376
        }
      },
      "outputs": [
        {
          "output_type": "display_data",
          "data": {
            "text/plain": [
              "<Figure size 576x396 with 1 Axes>"
            ],
            "image/png": "[encoded data removed]"
          },
          "metadata": {}
        }
      ],
      "source": [
        "from yellowbrick.classifier import ROCAUC\n",
        "\n",
        "model = pipe_RF\n",
        "visualizer = ROCAUC(model)\n",
        "\n",
        "visualizer.fit(X_train, y_train)       \n",
        "visualizer.score(X_test, y_test)       \n",
        "visualizer.show();         "
      ]
    },
    {
      "cell_type": "code",
      "execution_count": null,
      "id": "60a03b83",
      "metadata": {
        "execution": {
          "iopub.execute_input": "2022-11-09T10:28:28.430852Z",
          "iopub.status.busy": "2022-11-09T10:28:28.429682Z",
          "iopub.status.idle": "2022-11-09T10:28:28.459244Z",
          "shell.execute_reply": "2022-11-09T10:28:28.458041Z"
        },
        "id": "60a03b83",
        "outputId": "c9399156-fd67-4a48-a950-c4c3fbf9f9c6",
        "papermill": {
          "duration": 0.056028,
          "end_time": "2022-11-09T10:28:28.461789",
          "exception": false,
          "start_time": "2022-11-09T10:28:28.405761",
          "status": "completed"
        },
        "tags": [],
        "colab": {
          "base_uri": "https://localhost:8080/"
        }
      },
      "outputs": [
        {
          "output_type": "execute_result",
          "data": {
            "text/plain": [
              "array([0.00768381, 0.00104591, 0.01009259, 0.00612451, 0.31050633,\n",
              "       0.12094379, 0.1503391 , 0.13439343, 0.25887053])"
            ]
          },
          "metadata": {},
          "execution_count": 67
        }
      ],
      "source": [
        "pipe_RF[\"RF_model\"].feature_importances_ "
      ]
    },
    {
      "cell_type": "code",
      "execution_count": null,
      "id": "fc26c605",
      "metadata": {
        "execution": {
          "iopub.execute_input": "2022-11-09T10:28:28.509277Z",
          "iopub.status.busy": "2022-11-09T10:28:28.508478Z",
          "iopub.status.idle": "2022-11-09T10:28:28.515964Z",
          "shell.execute_reply": "2022-11-09T10:28:28.514936Z"
        },
        "id": "fc26c605",
        "outputId": "7cec8dbd-2bd2-4766-8d8c-242f37e699b0",
        "papermill": {
          "duration": 0.033649,
          "end_time": "2022-11-09T10:28:28.518270",
          "exception": false,
          "start_time": "2022-11-09T10:28:28.484621",
          "status": "completed"
        },
        "tags": [],
        "colab": {
          "base_uri": "https://localhost:8080/"
        }
      },
      "outputs": [
        {
          "output_type": "execute_result",
          "data": {
            "text/plain": [
              "Index(['satisfaction_level', 'last_evaluation', 'number_project',\n",
              "       'average_montly_hours', 'time_spend_company', 'Work_accident',\n",
              "       'promotion_last_5years', 'departments', 'salary'],\n",
              "      dtype='object')"
            ]
          },
          "metadata": {},
          "execution_count": 68
        }
      ],
      "source": [
        "X_train.columns"
      ]
    },
    {
      "cell_type": "code",
      "execution_count": null,
      "id": "0e0854c0",
      "metadata": {
        "execution": {
          "iopub.execute_input": "2022-11-09T10:28:28.565630Z",
          "iopub.status.busy": "2022-11-09T10:28:28.565205Z",
          "iopub.status.idle": "2022-11-09T10:28:28.574932Z",
          "shell.execute_reply": "2022-11-09T10:28:28.573821Z"
        },
        "id": "0e0854c0",
        "outputId": "40dfa6b0-4905-49d8-e627-4d7781b65d41",
        "papermill": {
          "duration": 0.036004,
          "end_time": "2022-11-09T10:28:28.577315",
          "exception": false,
          "start_time": "2022-11-09T10:28:28.541311",
          "status": "completed"
        },
        "tags": [],
        "colab": {
          "base_uri": "https://localhost:8080/"
        }
      },
      "outputs": [
        {
          "output_type": "execute_result",
          "data": {
            "text/plain": [
              "['Work_accident',\n",
              " 'promotion_last_5years',\n",
              " 'departments',\n",
              " 'salary',\n",
              " 'satisfaction_level',\n",
              " 'last_evaluation',\n",
              " 'number_project',\n",
              " 'average_montly_hours',\n",
              " 'time_spend_company']"
            ]
          },
          "metadata": {},
          "execution_count": 69
        }
      ],
      "source": [
        "features = list(X_train[cat].columns) + list(X_train.drop(columns=cat).columns)\n",
        "features"
      ]
    },
    {
      "cell_type": "code",
      "execution_count": null,
      "id": "22d0a72f",
      "metadata": {
        "execution": {
          "iopub.execute_input": "2022-11-09T10:28:28.625130Z",
          "iopub.status.busy": "2022-11-09T10:28:28.624043Z",
          "iopub.status.idle": "2022-11-09T10:28:28.659304Z",
          "shell.execute_reply": "2022-11-09T10:28:28.658104Z"
        },
        "id": "22d0a72f",
        "outputId": "2533e67b-259e-42a0-a474-3d5a71a5d5dd",
        "papermill": {
          "duration": 0.061634,
          "end_time": "2022-11-09T10:28:28.661679",
          "exception": false,
          "start_time": "2022-11-09T10:28:28.600045",
          "status": "completed"
        },
        "tags": [],
        "colab": {
          "base_uri": "https://localhost:8080/",
          "height": 332
        }
      },
      "outputs": [
        {
          "output_type": "execute_result",
          "data": {
            "text/plain": [
              "                       Feature Importance\n",
              "satisfaction_level                  0.311\n",
              "time_spend_company                  0.259\n",
              "number_project                      0.150\n",
              "average_montly_hours                0.134\n",
              "last_evaluation                     0.121\n",
              "departments                         0.010\n",
              "Work_accident                       0.008\n",
              "salary                              0.006\n",
              "promotion_last_5years               0.001"
            ],
            "text/html": [
              "\n",
              "  <div id=\"df-484aabeb-149b-485f-8f76-6a01acbc1d04\">\n",
              "    <div class=\"colab-df-container\">\n",
              "      <div>\n",
              "<style scoped>\n",
              "    .dataframe tbody tr th:only-of-type {\n",
              "        vertical-align: middle;\n",
              "    }\n",
              "\n",
              "    .dataframe tbody tr th {\n",
              "        vertical-align: top;\n",
              "    }\n",
              "\n",
              "    .dataframe thead th {\n",
              "        text-align: right;\n",
              "    }\n",
              "</style>\n",
              "<table border=\"1\" class=\"dataframe\">\n",
              "  <thead>\n",
              "    <tr style=\"text-align: right;\">\n",
              "      <th></th>\n",
              "      <th>Feature Importance</th>\n",
              "    </tr>\n",
              "  </thead>\n",
              "  <tbody>\n",
              "    <tr>\n",
              "      <th>satisfaction_level</th>\n",
              "      <td>0.311</td>\n",
              "    </tr>\n",
              "    <tr>\n",
              "      <th>time_spend_company</th>\n",
              "      <td>0.259</td>\n",
              "    </tr>\n",
              "    <tr>\n",
              "      <th>number_project</th>\n",
              "      <td>0.150</td>\n",
              "    </tr>\n",
              "    <tr>\n",
              "      <th>average_montly_hours</th>\n",
              "      <td>0.134</td>\n",
              "    </tr>\n",
              "    <tr>\n",
              "      <th>last_evaluation</th>\n",
              "      <td>0.121</td>\n",
              "    </tr>\n",
              "    <tr>\n",
              "      <th>departments</th>\n",
              "      <td>0.010</td>\n",
              "    </tr>\n",
              "    <tr>\n",
              "      <th>Work_accident</th>\n",
              "      <td>0.008</td>\n",
              "    </tr>\n",
              "    <tr>\n",
              "      <th>salary</th>\n",
              "      <td>0.006</td>\n",
              "    </tr>\n",
              "    <tr>\n",
              "      <th>promotion_last_5years</th>\n",
              "      <td>0.001</td>\n",
              "    </tr>\n",
              "  </tbody>\n",
              "</table>\n",
              "</div>\n",
              "      <button class=\"colab-df-convert\" onclick=\"convertToInteractive('df-484aabeb-149b-485f-8f76-6a01acbc1d04')\"\n",
              "              title=\"Convert this dataframe to an interactive table.\"\n",
              "              style=\"display:none;\">\n",
              "        \n",
              "  <svg xmlns=\"http://www.w3.org/2000/svg\" height=\"24px\"viewBox=\"0 0 24 24\"\n",
              "       width=\"24px\">\n",
              "    <path d=\"M0 0h24v24H0V0z\" fill=\"none\"/>\n",
              "    <path d=\"M18.56 5.44l.94 2.06.94-2.06 2.06-.94-2.06-.94-.94-2.06-.94 2.06-2.06.94zm-11 1L8.5 8.5l.94-2.06 2.06-.94-2.06-.94L8.5 2.5l-.94 2.06-2.06.94zm10 10l.94 2.06.94-2.06 2.06-.94-2.06-.94-.94-2.06-.94 2.06-2.06.94z\"/><path d=\"M17.41 7.96l-1.37-1.37c-.4-.4-.92-.59-1.43-.59-.52 0-1.04.2-1.43.59L10.3 9.45l-7.72 7.72c-.78.78-.78 2.05 0 2.83L4 21.41c.39.39.9.59 1.41.59.51 0 1.02-.2 1.41-.59l7.78-7.78 2.81-2.81c.8-.78.8-2.07 0-2.86zM5.41 20L4 18.59l7.72-7.72 1.47 1.35L5.41 20z\"/>\n",
              "  </svg>\n",
              "      </button>\n",
              "      \n",
              "  <style>\n",
              "    .colab-df-container {\n",
              "      display:flex;\n",
              "      flex-wrap:wrap;\n",
              "      gap: 12px;\n",
              "    }\n",
              "\n",
              "    .colab-df-convert {\n",
              "      background-color: #E8F0FE;\n",
              "      border: none;\n",
              "      border-radius: 50%;\n",
              "      cursor: pointer;\n",
              "      display: none;\n",
              "      fill: #1967D2;\n",
              "      height: 32px;\n",
              "      padding: 0 0 0 0;\n",
              "      width: 32px;\n",
              "    }\n",
              "\n",
              "    .colab-df-convert:hover {\n",
              "      background-color: #E2EBFA;\n",
              "      box-shadow: 0px 1px 2px rgba(60, 64, 67, 0.3), 0px 1px 3px 1px rgba(60, 64, 67, 0.15);\n",
              "      fill: #174EA6;\n",
              "    }\n",
              "\n",
              "    [theme=dark] .colab-df-convert {\n",
              "      background-color: #3B4455;\n",
              "      fill: #D2E3FC;\n",
              "    }\n",
              "\n",
              "    [theme=dark] .colab-df-convert:hover {\n",
              "      background-color: #434B5C;\n",
              "      box-shadow: 0px 1px 3px 1px rgba(0, 0, 0, 0.15);\n",
              "      filter: drop-shadow(0px 1px 2px rgba(0, 0, 0, 0.3));\n",
              "      fill: #FFFFFF;\n",
              "    }\n",
              "  </style>\n",
              "\n",
              "      <script>\n",
              "        const buttonEl =\n",
              "          document.querySelector('#df-484aabeb-149b-485f-8f76-6a01acbc1d04 button.colab-df-convert');\n",
              "        buttonEl.style.display =\n",
              "          google.colab.kernel.accessAllowed ? 'block' : 'none';\n",
              "\n",
              "        async function convertToInteractive(key) {\n",
              "          const element = document.querySelector('#df-484aabeb-149b-485f-8f76-6a01acbc1d04');\n",
              "          const dataTable =\n",
              "            await google.colab.kernel.invokeFunction('convertToInteractive',\n",
              "                                                     [key], {});\n",
              "          if (!dataTable) return;\n",
              "\n",
              "          const docLinkHtml = 'Like what you see? Visit the ' +\n",
              "            '<a target=\"_blank\" href=https://colab.research.google.com/notebooks/data_table.ipynb>data table notebook</a>'\n",
              "            + ' to learn more about interactive tables.';\n",
              "          element.innerHTML = '';\n",
              "          dataTable['output_type'] = 'display_data';\n",
              "          await google.colab.output.renderOutput(dataTable, element);\n",
              "          const docLink = document.createElement('div');\n",
              "          docLink.innerHTML = docLinkHtml;\n",
              "          element.appendChild(docLink);\n",
              "        }\n",
              "      </script>\n",
              "    </div>\n",
              "  </div>\n",
              "  "
            ]
          },
          "metadata": {},
          "execution_count": 70
        }
      ],
      "source": [
        "rf_feature_imp = pd.DataFrame(data = pipe_RF[\"RF_model\"].feature_importances_, index = features, #index=X.columns\n",
        "                              columns = [\"Feature Importance\"]).sort_values(\"Feature Importance\", ascending = False)\n",
        "rf_feature_imp"
      ]
    },
    {
      "cell_type": "code",
      "execution_count": null,
      "id": "cfad8b24",
      "metadata": {
        "execution": {
          "iopub.execute_input": "2022-11-09T10:28:28.709741Z",
          "iopub.status.busy": "2022-11-09T10:28:28.709325Z",
          "iopub.status.idle": "2022-11-09T10:28:29.042461Z",
          "shell.execute_reply": "2022-11-09T10:28:29.041562Z"
        },
        "id": "cfad8b24",
        "outputId": "cb4a62c4-ffb6-4526-8f8a-0b58a0b9761f",
        "papermill": {
          "duration": 0.35971,
          "end_time": "2022-11-09T10:28:29.044822",
          "exception": false,
          "start_time": "2022-11-09T10:28:28.685112",
          "status": "completed"
        },
        "tags": [],
        "colab": {
          "base_uri": "https://localhost:8080/",
          "height": 376
        }
      },
      "outputs": [
        {
          "output_type": "display_data",
          "data": {
            "text/plain": [
              "<Figure size 576x396 with 1 Axes>"
            ],
            "image/png": "[encoded data removed]"
          },
          "metadata": {}
        }
      ],
      "source": [
        "ax = sns.barplot(x=rf_feature_imp[\"Feature Importance\"], y=rf_feature_imp.index)\n",
        "ax.bar_label(ax.containers[0],fmt=\"%.3f\")\n",
        "plt.title(\"Feature Importance for Random Forest\")\n",
        "plt.show()"
      ]
    },
    {
      "cell_type": "code",
      "execution_count": null,
      "id": "c6408212",
      "metadata": {
        "execution": {
          "iopub.execute_input": "2022-11-09T10:28:29.094699Z",
          "iopub.status.busy": "2022-11-09T10:28:29.093521Z",
          "iopub.status.idle": "2022-11-09T10:28:29.440132Z",
          "shell.execute_reply": "2022-11-09T10:28:29.438942Z"
        },
        "id": "c6408212",
        "outputId": "6a90fad6-0f77-4dc6-ee90-294246e028be",
        "papermill": {
          "duration": 0.373941,
          "end_time": "2022-11-09T10:28:29.442651",
          "exception": false,
          "start_time": "2022-11-09T10:28:29.068710",
          "status": "completed"
        },
        "tags": [],
        "colab": {
          "base_uri": "https://localhost:8080/",
          "height": 401
        }
      },
      "outputs": [
        {
          "output_type": "display_data",
          "data": {
            "text/plain": [
              "<Figure size 576x396 with 1 Axes>"
            ],
            "image/png": "[encoded data removed]"
          },
          "metadata": {}
        }
      ],
      "source": [
        "from yellowbrick.model_selection import FeatureImportances\n",
        "\n",
        "model = pipe_RF[\"RF_model\"]\n",
        "viz = FeatureImportances(model, labels=features)\n",
        "viz.fit(X_train, y_train)\n",
        "viz.show();"
      ]
    },
    {
      "cell_type": "markdown",
      "id": "be44aa8a",
      "metadata": {
        "id": "be44aa8a",
        "papermill": {
          "duration": 0.024109,
          "end_time": "2022-11-09T10:28:29.491135",
          "exception": false,
          "start_time": "2022-11-09T10:28:29.467026",
          "status": "completed"
        },
        "tags": []
      },
      "source": [
        "#### Prediction"
      ]
    },
    {
      "cell_type": "code",
      "execution_count": null,
      "id": "3101a9c6",
      "metadata": {
        "execution": {
          "iopub.execute_input": "2022-11-09T10:28:29.541211Z",
          "iopub.status.busy": "2022-11-09T10:28:29.540562Z",
          "iopub.status.idle": "2022-11-09T10:28:29.555325Z",
          "shell.execute_reply": "2022-11-09T10:28:29.554189Z"
        },
        "id": "3101a9c6",
        "outputId": "8cde356e-a384-4b9f-bc3f-6422cc83d491",
        "papermill": {
          "duration": 0.042618,
          "end_time": "2022-11-09T10:28:29.557763",
          "exception": false,
          "start_time": "2022-11-09T10:28:29.515145",
          "status": "completed"
        },
        "tags": [],
        "colab": {
          "base_uri": "https://localhost:8080/",
          "height": 250
        }
      },
      "outputs": [
        {
          "output_type": "execute_result",
          "data": {
            "text/plain": [
              "       satisfaction_level  last_evaluation  number_project  \\\n",
              "11238               0.390            0.890               3   \n",
              "2116                0.610            0.850               5   \n",
              "2325                0.580            0.550               5   \n",
              "219                 0.890            0.870               5   \n",
              "207                 0.780            0.870               4   \n",
              "\n",
              "       average_montly_hours  time_spend_company  Work_accident  left  \\\n",
              "11238                   188                   5              0     0   \n",
              "2116                    230                   3              0     0   \n",
              "2325                    206                   3              0     0   \n",
              "219                     225                   5              0     1   \n",
              "207                     228                   5              0     1   \n",
              "\n",
              "       promotion_last_5years  departments  salary  \n",
              "11238                      0      support     low  \n",
              "2116                       0      support     low  \n",
              "2325                       0    technical  medium  \n",
              "219                        0  product_mng     low  \n",
              "207                        0      support     low  "
            ],
            "text/html": [
              "\n",
              "  <div id=\"df-f2def61c-21aa-4add-82ee-74e7b87e06eb\">\n",
              "    <div class=\"colab-df-container\">\n",
              "      <div>\n",
              "<style scoped>\n",
              "    .dataframe tbody tr th:only-of-type {\n",
              "        vertical-align: middle;\n",
              "    }\n",
              "\n",
              "    .dataframe tbody tr th {\n",
              "        vertical-align: top;\n",
              "    }\n",
              "\n",
              "    .dataframe thead th {\n",
              "        text-align: right;\n",
              "    }\n",
              "</style>\n",
              "<table border=\"1\" class=\"dataframe\">\n",
              "  <thead>\n",
              "    <tr style=\"text-align: right;\">\n",
              "      <th></th>\n",
              "      <th>satisfaction_level</th>\n",
              "      <th>last_evaluation</th>\n",
              "      <th>number_project</th>\n",
              "      <th>average_montly_hours</th>\n",
              "      <th>time_spend_company</th>\n",
              "      <th>Work_accident</th>\n",
              "      <th>left</th>\n",
              "      <th>promotion_last_5years</th>\n",
              "      <th>departments</th>\n",
              "      <th>salary</th>\n",
              "    </tr>\n",
              "  </thead>\n",
              "  <tbody>\n",
              "    <tr>\n",
              "      <th>11238</th>\n",
              "      <td>0.390</td>\n",
              "      <td>0.890</td>\n",
              "      <td>3</td>\n",
              "      <td>188</td>\n",
              "      <td>5</td>\n",
              "      <td>0</td>\n",
              "      <td>0</td>\n",
              "      <td>0</td>\n",
              "      <td>support</td>\n",
              "      <td>low</td>\n",
              "    </tr>\n",
              "    <tr>\n",
              "      <th>2116</th>\n",
              "      <td>0.610</td>\n",
              "      <td>0.850</td>\n",
              "      <td>5</td>\n",
              "      <td>230</td>\n",
              "      <td>3</td>\n",
              "      <td>0</td>\n",
              "      <td>0</td>\n",
              "      <td>0</td>\n",
              "      <td>support</td>\n",
              "      <td>low</td>\n",
              "    </tr>\n",
              "    <tr>\n",
              "      <th>2325</th>\n",
              "      <td>0.580</td>\n",
              "      <td>0.550</td>\n",
              "      <td>5</td>\n",
              "      <td>206</td>\n",
              "      <td>3</td>\n",
              "      <td>0</td>\n",
              "      <td>0</td>\n",
              "      <td>0</td>\n",
              "      <td>technical</td>\n",
              "      <td>medium</td>\n",
              "    </tr>\n",
              "    <tr>\n",
              "      <th>219</th>\n",
              "      <td>0.890</td>\n",
              "      <td>0.870</td>\n",
              "      <td>5</td>\n",
              "      <td>225</td>\n",
              "      <td>5</td>\n",
              "      <td>0</td>\n",
              "      <td>1</td>\n",
              "      <td>0</td>\n",
              "      <td>product_mng</td>\n",
              "      <td>low</td>\n",
              "    </tr>\n",
              "    <tr>\n",
              "      <th>207</th>\n",
              "      <td>0.780</td>\n",
              "      <td>0.870</td>\n",
              "      <td>4</td>\n",
              "      <td>228</td>\n",
              "      <td>5</td>\n",
              "      <td>0</td>\n",
              "      <td>1</td>\n",
              "      <td>0</td>\n",
              "      <td>support</td>\n",
              "      <td>low</td>\n",
              "    </tr>\n",
              "  </tbody>\n",
              "</table>\n",
              "</div>\n",
              "      <button class=\"colab-df-convert\" onclick=\"convertToInteractive('df-f2def61c-21aa-4add-82ee-74e7b87e06eb')\"\n",
              "              title=\"Convert this dataframe to an interactive table.\"\n",
              "              style=\"display:none;\">\n",
              "        \n",
              "  <svg xmlns=\"http://www.w3.org/2000/svg\" height=\"24px\"viewBox=\"0 0 24 24\"\n",
              "       width=\"24px\">\n",
              "    <path d=\"M0 0h24v24H0V0z\" fill=\"none\"/>\n",
              "    <path d=\"M18.56 5.44l.94 2.06.94-2.06 2.06-.94-2.06-.94-.94-2.06-.94 2.06-2.06.94zm-11 1L8.5 8.5l.94-2.06 2.06-.94-2.06-.94L8.5 2.5l-.94 2.06-2.06.94zm10 10l.94 2.06.94-2.06 2.06-.94-2.06-.94-.94-2.06-.94 2.06-2.06.94z\"/><path d=\"M17.41 7.96l-1.37-1.37c-.4-.4-.92-.59-1.43-.59-.52 0-1.04.2-1.43.59L10.3 9.45l-7.72 7.72c-.78.78-.78 2.05 0 2.83L4 21.41c.39.39.9.59 1.41.59.51 0 1.02-.2 1.41-.59l7.78-7.78 2.81-2.81c.8-.78.8-2.07 0-2.86zM5.41 20L4 18.59l7.72-7.72 1.47 1.35L5.41 20z\"/>\n",
              "  </svg>\n",
              "      </button>\n",
              "      \n",
              "  <style>\n",
              "    .colab-df-container {\n",
              "      display:flex;\n",
              "      flex-wrap:wrap;\n",
              "      gap: 12px;\n",
              "    }\n",
              "\n",
              "    .colab-df-convert {\n",
              "      background-color: #E8F0FE;\n",
              "      border: none;\n",
              "      border-radius: 50%;\n",
              "      cursor: pointer;\n",
              "      display: none;\n",
              "      fill: #1967D2;\n",
              "      height: 32px;\n",
              "      padding: 0 0 0 0;\n",
              "      width: 32px;\n",
              "    }\n",
              "\n",
              "    .colab-df-convert:hover {\n",
              "      background-color: #E2EBFA;\n",
              "      box-shadow: 0px 1px 2px rgba(60, 64, 67, 0.3), 0px 1px 3px 1px rgba(60, 64, 67, 0.15);\n",
              "      fill: #174EA6;\n",
              "    }\n",
              "\n",
              "    [theme=dark] .colab-df-convert {\n",
              "      background-color: #3B4455;\n",
              "      fill: #D2E3FC;\n",
              "    }\n",
              "\n",
              "    [theme=dark] .colab-df-convert:hover {\n",
              "      background-color: #434B5C;\n",
              "      box-shadow: 0px 1px 3px 1px rgba(0, 0, 0, 0.15);\n",
              "      filter: drop-shadow(0px 1px 2px rgba(0, 0, 0, 0.3));\n",
              "      fill: #FFFFFF;\n",
              "    }\n",
              "  </style>\n",
              "\n",
              "      <script>\n",
              "        const buttonEl =\n",
              "          document.querySelector('#df-f2def61c-21aa-4add-82ee-74e7b87e06eb button.colab-df-convert');\n",
              "        buttonEl.style.display =\n",
              "          google.colab.kernel.accessAllowed ? 'block' : 'none';\n",
              "\n",
              "        async function convertToInteractive(key) {\n",
              "          const element = document.querySelector('#df-f2def61c-21aa-4add-82ee-74e7b87e06eb');\n",
              "          const dataTable =\n",
              "            await google.colab.kernel.invokeFunction('convertToInteractive',\n",
              "                                                     [key], {});\n",
              "          if (!dataTable) return;\n",
              "\n",
              "          const docLinkHtml = 'Like what you see? Visit the ' +\n",
              "            '<a target=\"_blank\" href=https://colab.research.google.com/notebooks/data_table.ipynb>data table notebook</a>'\n",
              "            + ' to learn more about interactive tables.';\n",
              "          element.innerHTML = '';\n",
              "          dataTable['output_type'] = 'display_data';\n",
              "          await google.colab.output.renderOutput(dataTable, element);\n",
              "          const docLink = document.createElement('div');\n",
              "          docLink.innerHTML = docLinkHtml;\n",
              "          element.appendChild(docLink);\n",
              "        }\n",
              "      </script>\n",
              "    </div>\n",
              "  </div>\n",
              "  "
            ]
          },
          "metadata": {},
          "execution_count": 73
        }
      ],
      "source": [
        "obs = df.sample(5)\n",
        "obs"
      ]
    },
    {
      "cell_type": "code",
      "execution_count": null,
      "id": "56a93139",
      "metadata": {
        "execution": {
          "iopub.execute_input": "2022-11-09T10:28:29.608599Z",
          "iopub.status.busy": "2022-11-09T10:28:29.607376Z",
          "iopub.status.idle": "2022-11-09T10:28:29.642305Z",
          "shell.execute_reply": "2022-11-09T10:28:29.641045Z"
        },
        "id": "56a93139",
        "outputId": "c794f7ee-df3c-4515-e579-7cdcfc81c76e",
        "papermill": {
          "duration": 0.063118,
          "end_time": "2022-11-09T10:28:29.645067",
          "exception": false,
          "start_time": "2022-11-09T10:28:29.581949",
          "status": "completed"
        },
        "tags": [],
        "colab": {
          "base_uri": "https://localhost:8080/"
        }
      },
      "outputs": [
        {
          "output_type": "execute_result",
          "data": {
            "text/plain": [
              "array([0, 0, 0, 1, 1])"
            ]
          },
          "metadata": {},
          "execution_count": 74
        }
      ],
      "source": [
        "pipe_RF.predict(obs)"
      ]
    },
    {
      "cell_type": "code",
      "execution_count": null,
      "id": "95799bfc",
      "metadata": {
        "execution": {
          "iopub.execute_input": "2022-11-09T10:28:29.696392Z",
          "iopub.status.busy": "2022-11-09T10:28:29.695981Z",
          "iopub.status.idle": "2022-11-09T10:28:29.720387Z",
          "shell.execute_reply": "2022-11-09T10:28:29.719160Z"
        },
        "id": "95799bfc",
        "papermill": {
          "duration": 0.053275,
          "end_time": "2022-11-09T10:28:29.723150",
          "exception": false,
          "start_time": "2022-11-09T10:28:29.669875",
          "status": "completed"
        },
        "tags": []
      },
      "outputs": [],
      "source": [
        "import pickle\n",
        "pickle.dump(pipe_RF, open(\"Random_Forest.pkl\", 'wb'))"
      ]
    },
    {
      "cell_type": "code",
      "execution_count": null,
      "id": "8e268dfc",
      "metadata": {
        "execution": {
          "iopub.execute_input": "2022-11-09T10:28:29.774191Z",
          "iopub.status.busy": "2022-11-09T10:28:29.773758Z",
          "iopub.status.idle": "2022-11-09T10:28:29.793548Z",
          "shell.execute_reply": "2022-11-09T10:28:29.792288Z"
        },
        "id": "8e268dfc",
        "papermill": {
          "duration": 0.04846,
          "end_time": "2022-11-09T10:28:29.796335",
          "exception": false,
          "start_time": "2022-11-09T10:28:29.747875",
          "status": "completed"
        },
        "tags": []
      },
      "outputs": [],
      "source": [
        "rf_model = pickle.load(open(\"Random_Forest.pkl\", 'rb'))"
      ]
    },
    {
      "cell_type": "code",
      "execution_count": null,
      "id": "53c82988",
      "metadata": {
        "execution": {
          "iopub.execute_input": "2022-11-09T10:28:29.847383Z",
          "iopub.status.busy": "2022-11-09T10:28:29.846966Z",
          "iopub.status.idle": "2022-11-09T10:28:29.950228Z",
          "shell.execute_reply": "2022-11-09T10:28:29.949068Z"
        },
        "id": "53c82988",
        "papermill": {
          "duration": 0.131932,
          "end_time": "2022-11-09T10:28:29.953013",
          "exception": false,
          "start_time": "2022-11-09T10:28:29.821081",
          "status": "completed"
        },
        "tags": []
      },
      "outputs": [],
      "source": [
        "y_pred = rf_model.predict(X_test)"
      ]
    },
    {
      "cell_type": "code",
      "execution_count": null,
      "id": "575ec5a0",
      "metadata": {
        "execution": {
          "iopub.execute_input": "2022-11-09T10:28:30.004377Z",
          "iopub.status.busy": "2022-11-09T10:28:30.003501Z",
          "iopub.status.idle": "2022-11-09T10:28:30.015575Z",
          "shell.execute_reply": "2022-11-09T10:28:30.014381Z"
        },
        "id": "575ec5a0",
        "outputId": "42333ed1-9988-4224-9a49-13bfa0add04d",
        "papermill": {
          "duration": 0.040555,
          "end_time": "2022-11-09T10:28:30.017970",
          "exception": false,
          "start_time": "2022-11-09T10:28:29.977415",
          "status": "completed"
        },
        "tags": [],
        "colab": {
          "base_uri": "https://localhost:8080/",
          "height": 363
        }
      },
      "outputs": [
        {
          "output_type": "execute_result",
          "data": {
            "text/plain": [
              "       Actual  Pred\n",
              "8279        0     0\n",
              "5257        0     0\n",
              "951         1     1\n",
              "7103        0     0\n",
              "10715       0     0\n",
              "8568        0     0\n",
              "8927        0     0\n",
              "87          1     1\n",
              "913         1     1\n",
              "6216        0     0"
            ],
            "text/html": [
              "\n",
              "  <div id=\"df-4fdeee70-5653-43c7-9f4f-ef9714bca603\">\n",
              "    <div class=\"colab-df-container\">\n",
              "      <div>\n",
              "<style scoped>\n",
              "    .dataframe tbody tr th:only-of-type {\n",
              "        vertical-align: middle;\n",
              "    }\n",
              "\n",
              "    .dataframe tbody tr th {\n",
              "        vertical-align: top;\n",
              "    }\n",
              "\n",
              "    .dataframe thead th {\n",
              "        text-align: right;\n",
              "    }\n",
              "</style>\n",
              "<table border=\"1\" class=\"dataframe\">\n",
              "  <thead>\n",
              "    <tr style=\"text-align: right;\">\n",
              "      <th></th>\n",
              "      <th>Actual</th>\n",
              "      <th>Pred</th>\n",
              "    </tr>\n",
              "  </thead>\n",
              "  <tbody>\n",
              "    <tr>\n",
              "      <th>8279</th>\n",
              "      <td>0</td>\n",
              "      <td>0</td>\n",
              "    </tr>\n",
              "    <tr>\n",
              "      <th>5257</th>\n",
              "      <td>0</td>\n",
              "      <td>0</td>\n",
              "    </tr>\n",
              "    <tr>\n",
              "      <th>951</th>\n",
              "      <td>1</td>\n",
              "      <td>1</td>\n",
              "    </tr>\n",
              "    <tr>\n",
              "      <th>7103</th>\n",
              "      <td>0</td>\n",
              "      <td>0</td>\n",
              "    </tr>\n",
              "    <tr>\n",
              "      <th>10715</th>\n",
              "      <td>0</td>\n",
              "      <td>0</td>\n",
              "    </tr>\n",
              "    <tr>\n",
              "      <th>8568</th>\n",
              "      <td>0</td>\n",
              "      <td>0</td>\n",
              "    </tr>\n",
              "    <tr>\n",
              "      <th>8927</th>\n",
              "      <td>0</td>\n",
              "      <td>0</td>\n",
              "    </tr>\n",
              "    <tr>\n",
              "      <th>87</th>\n",
              "      <td>1</td>\n",
              "      <td>1</td>\n",
              "    </tr>\n",
              "    <tr>\n",
              "      <th>913</th>\n",
              "      <td>1</td>\n",
              "      <td>1</td>\n",
              "    </tr>\n",
              "    <tr>\n",
              "      <th>6216</th>\n",
              "      <td>0</td>\n",
              "      <td>0</td>\n",
              "    </tr>\n",
              "  </tbody>\n",
              "</table>\n",
              "</div>\n",
              "      <button class=\"colab-df-convert\" onclick=\"convertToInteractive('df-4fdeee70-5653-43c7-9f4f-ef9714bca603')\"\n",
              "              title=\"Convert this dataframe to an interactive table.\"\n",
              "              style=\"display:none;\">\n",
              "        \n",
              "  <svg xmlns=\"http://www.w3.org/2000/svg\" height=\"24px\"viewBox=\"0 0 24 24\"\n",
              "       width=\"24px\">\n",
              "    <path d=\"M0 0h24v24H0V0z\" fill=\"none\"/>\n",
              "    <path d=\"M18.56 5.44l.94 2.06.94-2.06 2.06-.94-2.06-.94-.94-2.06-.94 2.06-2.06.94zm-11 1L8.5 8.5l.94-2.06 2.06-.94-2.06-.94L8.5 2.5l-.94 2.06-2.06.94zm10 10l.94 2.06.94-2.06 2.06-.94-2.06-.94-.94-2.06-.94 2.06-2.06.94z\"/><path d=\"M17.41 7.96l-1.37-1.37c-.4-.4-.92-.59-1.43-.59-.52 0-1.04.2-1.43.59L10.3 9.45l-7.72 7.72c-.78.78-.78 2.05 0 2.83L4 21.41c.39.39.9.59 1.41.59.51 0 1.02-.2 1.41-.59l7.78-7.78 2.81-2.81c.8-.78.8-2.07 0-2.86zM5.41 20L4 18.59l7.72-7.72 1.47 1.35L5.41 20z\"/>\n",
              "  </svg>\n",
              "      </button>\n",
              "      \n",
              "  <style>\n",
              "    .colab-df-container {\n",
              "      display:flex;\n",
              "      flex-wrap:wrap;\n",
              "      gap: 12px;\n",
              "    }\n",
              "\n",
              "    .colab-df-convert {\n",
              "      background-color: #E8F0FE;\n",
              "      border: none;\n",
              "      border-radius: 50%;\n",
              "      cursor: pointer;\n",
              "      display: none;\n",
              "      fill: #1967D2;\n",
              "      height: 32px;\n",
              "      padding: 0 0 0 0;\n",
              "      width: 32px;\n",
              "    }\n",
              "\n",
              "    .colab-df-convert:hover {\n",
              "      background-color: #E2EBFA;\n",
              "      box-shadow: 0px 1px 2px rgba(60, 64, 67, 0.3), 0px 1px 3px 1px rgba(60, 64, 67, 0.15);\n",
              "      fill: #174EA6;\n",
              "    }\n",
              "\n",
              "    [theme=dark] .colab-df-convert {\n",
              "      background-color: #3B4455;\n",
              "      fill: #D2E3FC;\n",
              "    }\n",
              "\n",
              "    [theme=dark] .colab-df-convert:hover {\n",
              "      background-color: #434B5C;\n",
              "      box-shadow: 0px 1px 3px 1px rgba(0, 0, 0, 0.15);\n",
              "      filter: drop-shadow(0px 1px 2px rgba(0, 0, 0, 0.3));\n",
              "      fill: #FFFFFF;\n",
              "    }\n",
              "  </style>\n",
              "\n",
              "      <script>\n",
              "        const buttonEl =\n",
              "          document.querySelector('#df-4fdeee70-5653-43c7-9f4f-ef9714bca603 button.colab-df-convert');\n",
              "        buttonEl.style.display =\n",
              "          google.colab.kernel.accessAllowed ? 'block' : 'none';\n",
              "\n",
              "        async function convertToInteractive(key) {\n",
              "          const element = document.querySelector('#df-4fdeee70-5653-43c7-9f4f-ef9714bca603');\n",
              "          const dataTable =\n",
              "            await google.colab.kernel.invokeFunction('convertToInteractive',\n",
              "                                                     [key], {});\n",
              "          if (!dataTable) return;\n",
              "\n",
              "          const docLinkHtml = 'Like what you see? Visit the ' +\n",
              "            '<a target=\"_blank\" href=https://colab.research.google.com/notebooks/data_table.ipynb>data table notebook</a>'\n",
              "            + ' to learn more about interactive tables.';\n",
              "          element.innerHTML = '';\n",
              "          dataTable['output_type'] = 'display_data';\n",
              "          await google.colab.output.renderOutput(dataTable, element);\n",
              "          const docLink = document.createElement('div');\n",
              "          docLink.innerHTML = docLinkHtml;\n",
              "          element.appendChild(docLink);\n",
              "        }\n",
              "      </script>\n",
              "    </div>\n",
              "  </div>\n",
              "  "
            ]
          },
          "metadata": {},
          "execution_count": 78
        }
      ],
      "source": [
        "my_dict = {\"Actual\": y_test, \n",
        "           \"Pred\":y_pred}\n",
        "           \n",
        "pd.DataFrame.from_dict(my_dict).sample(10)"
      ]
    },
    {
      "cell_type": "markdown",
      "id": "2dd716d2",
      "metadata": {
        "id": "2dd716d2",
        "papermill": {
          "duration": 0.02443,
          "end_time": "2022-11-09T10:28:30.067081",
          "exception": false,
          "start_time": "2022-11-09T10:28:30.042651",
          "status": "completed"
        },
        "tags": []
      },
      "source": [
        "## 4. Model Deployement\n",
        "\n",
        " Model Deployement helps you showcase your work to the world and make better decisions with it. But, deploying a model can get a little tricky at times. Before deploying the model, many things such as data storage, preprocessing, model building and monitoring need to be studied. Streamlit is a popular open source framework used by data scientists for model distribution.\n",
        "\n",
        "Deployment of machine learning models, means making your models available to your other business systems. By deploying models, other systems can send data to them and get their predictions, which are in turn populated back into the company systems. Through machine learning model deployment, can begin to take full advantage of the model you built.\n",
        "\n",
        "Data science is concerned with how to build machine learning models, which algorithm is more predictive, how to design features, and what variables to use to make the models more accurate. However, how these models are actually used is often neglected. And yet this is the most important step in the machine learning pipline. Only when a model is fully integrated with the business systems, real values ​​can be extract from its predictions."
      ]
    }
  ],
  "metadata": {
    "kernelspec": {
      "display_name": "Python 3",
      "language": "python",
      "name": "python3"
    },
    "language_info": {
      "codemirror_mode": {
        "name": "ipython",
        "version": 3
      },
      "file_extension": ".py",
      "mimetype": "text/x-python",
      "name": "python",
      "nbconvert_exporter": "python",
      "pygments_lexer": "ipython3",
      "version": "3.7.12"
    },
    "papermill": {
      "default_parameters": {},
      "duration": 57.221715,
      "end_time": "2022-11-09T10:28:33.360273",
      "environment_variables": {},
      "exception": null,
      "input_path": "__notebook__.ipynb",
      "output_path": "__notebook__.ipynb",
      "parameters": {},
      "start_time": "2022-11-09T10:27:36.138558",
      "version": "2.3.4"
    },
    "colab": {
      "provenance": []
    }
  },
  "nbformat": 4,
  "nbformat_minor": 5
}